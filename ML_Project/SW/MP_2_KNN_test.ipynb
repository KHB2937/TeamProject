{
  "nbformat": 4,
  "nbformat_minor": 0,
  "metadata": {
    "colab": {
      "provenance": [],
      "authorship_tag": "ABX9TyPWnYwQaW8dEqWAOk0PGcWf",
      "include_colab_link": true
    },
    "kernelspec": {
      "name": "python3",
      "display_name": "Python 3"
    },
    "language_info": {
      "name": "python"
    }
  },
  "cells": [
    {
      "cell_type": "markdown",
      "metadata": {
        "id": "view-in-github",
        "colab_type": "text"
      },
      "source": [
        "<a href=\"https://colab.research.google.com/github/tkd8973/ML_Project/blob/main/SW/MP_2_KNN_test.ipynb\" target=\"_parent\"><img src=\"https://colab.research.google.com/assets/colab-badge.svg\" alt=\"Open In Colab\"/></a>"
      ]
    },
    {
      "cell_type": "code",
      "source": [
        "\n",
        "!sudo apt-get install -y fonts-nanum\n",
        "!sudo fc-cache -fv\n",
        "!rm ~/.cache/matplotlib -rf\n"
      ],
      "metadata": {
        "colab": {
          "base_uri": "https://localhost:8080/"
        },
        "id": "Q6Ee3SeO21L_",
        "outputId": "3b563641-df93-4f2f-b657-c80c31ce1544"
      },
      "execution_count": 6,
      "outputs": [
        {
          "output_type": "stream",
          "name": "stdout",
          "text": [
            "Reading package lists... Done\n",
            "Building dependency tree       \n",
            "Reading state information... Done\n",
            "fonts-nanum is already the newest version (20180306-3).\n",
            "0 upgraded, 0 newly installed, 0 to remove and 23 not upgraded.\n",
            "/usr/share/fonts: caching, new cache contents: 0 fonts, 1 dirs\n",
            "/usr/share/fonts/truetype: caching, new cache contents: 0 fonts, 3 dirs\n",
            "/usr/share/fonts/truetype/humor-sans: caching, new cache contents: 1 fonts, 0 dirs\n",
            "/usr/share/fonts/truetype/liberation: caching, new cache contents: 16 fonts, 0 dirs\n",
            "/usr/share/fonts/truetype/nanum: caching, new cache contents: 10 fonts, 0 dirs\n",
            "/usr/local/share/fonts: caching, new cache contents: 0 fonts, 0 dirs\n",
            "/root/.local/share/fonts: skipping, no such directory\n",
            "/root/.fonts: skipping, no such directory\n",
            "/usr/share/fonts/truetype: skipping, looped directory detected\n",
            "/usr/share/fonts/truetype/humor-sans: skipping, looped directory detected\n",
            "/usr/share/fonts/truetype/liberation: skipping, looped directory detected\n",
            "/usr/share/fonts/truetype/nanum: skipping, looped directory detected\n",
            "/var/cache/fontconfig: cleaning cache directory\n",
            "/root/.cache/fontconfig: not cleaning non-existent cache directory\n",
            "/root/.fontconfig: not cleaning non-existent cache directory\n",
            "fc-cache: succeeded\n"
          ]
        }
      ]
    },
    {
      "cell_type": "code",
      "execution_count": 3,
      "metadata": {
        "id": "MNakSa6VhXGy"
      },
      "outputs": [],
      "source": [
        "import pandas as pd\n",
        "import numpy as np\n",
        "import matplotlib.pyplot as plt\n",
        "dosi=dict()\n",
        "\n",
        "#@title 한글 폰트를 나눔폰트로 설정\n",
        "plt.rc('font', family='NanumBarunGothic')"
      ]
    },
    {
      "cell_type": "code",
      "source": [
        "Jan_data = pd.read_csv('https://github.com/jaiwon880/ML_Projiect/raw/main/Data/%EC%95%84%ED%8C%8C%ED%8A%B8_%EB%A7%A4%EB%A7%A4__%EC%8B%A4%EA%B1%B0%EB%9E%98%EA%B0%80_20230321134107_1%EC%9B%94.csv')\n",
        "Feb_Data = pd.read_csv('https://raw.githubusercontent.com/jaiwon880/ML_Projiect/main/Data/%EC%95%84%ED%8C%8C%ED%8A%B8_%EB%A7%A4%EB%A7%A4__%EC%8B%A4%EA%B1%B0%EB%9E%98%EA%B0%80_20230321134120_2%EC%9B%94.csv')\n"
      ],
      "metadata": {
        "id": "IRstgzQ7habG"
      },
      "execution_count": 30,
      "outputs": []
    },
    {
      "cell_type": "code",
      "source": [
        "len(Jan_data['시군구'].unique())"
      ],
      "metadata": {
        "colab": {
          "base_uri": "https://localhost:8080/"
        },
        "id": "lycoB91wa0ci",
        "outputId": "c1e602ef-6da4-49be-8c1f-4a4a45612c1c"
      },
      "execution_count": 5,
      "outputs": [
        {
          "output_type": "execute_result",
          "data": {
            "text/plain": [
              "2407"
            ]
          },
          "metadata": {},
          "execution_count": 5
        }
      ]
    },
    {
      "cell_type": "code",
      "source": [
        "import seaborn as sns"
      ],
      "metadata": {
        "id": "Q112tUWBYItz"
      },
      "execution_count": 6,
      "outputs": []
    },
    {
      "cell_type": "code",
      "source": [
        "# sns.pointplot(x='전용면적(㎡)',y='거래금액(만원)',hue='시군구',data=Jan_data)"
      ],
      "metadata": {
        "colab": {
          "base_uri": "https://localhost:8080/",
          "height": 174
        },
        "id": "19C4Ta-KBdSX",
        "outputId": "42a02a3e-f562-4b6b-d8d9-7e059eb15342"
      },
      "execution_count": 2,
      "outputs": [
        {
          "output_type": "error",
          "ename": "NameError",
          "evalue": "ignored",
          "traceback": [
            "\u001b[0;31m---------------------------------------------------------------------------\u001b[0m",
            "\u001b[0;31mNameError\u001b[0m                                 Traceback (most recent call last)",
            "\u001b[0;32m<ipython-input-2-825477c83140>\u001b[0m in \u001b[0;36m<module>\u001b[0;34m\u001b[0m\n\u001b[0;32m----> 1\u001b[0;31m \u001b[0msns\u001b[0m\u001b[0;34m.\u001b[0m\u001b[0mpointplot\u001b[0m\u001b[0;34m(\u001b[0m\u001b[0mx\u001b[0m\u001b[0;34m=\u001b[0m\u001b[0;34m'전용면적(㎡)'\u001b[0m\u001b[0;34m,\u001b[0m\u001b[0my\u001b[0m\u001b[0;34m=\u001b[0m\u001b[0;34m'거래금액(만원)'\u001b[0m\u001b[0;34m,\u001b[0m\u001b[0mhue\u001b[0m\u001b[0;34m=\u001b[0m\u001b[0;34m'시군구'\u001b[0m\u001b[0;34m,\u001b[0m\u001b[0mdata\u001b[0m\u001b[0;34m=\u001b[0m\u001b[0mJan_data\u001b[0m\u001b[0;34m)\u001b[0m\u001b[0;34m\u001b[0m\u001b[0;34m\u001b[0m\u001b[0m\n\u001b[0m",
            "\u001b[0;31mNameError\u001b[0m: name 'sns' is not defined"
          ]
        }
      ]
    },
    {
      "cell_type": "code",
      "source": [
        "aa=Jan_data['계약년월'].astype(str)\n",
        "bb=Jan_data['계약일'].astype(str)\n",
        "\n",
        "Jan_data['date'] = aa+bb\n",
        "Jan_data['date'] = pd.to_datetime(Jan_data['date'], format='%Y%m%d')\n",
        "Jan_data\n",
        "Jan_data.drop(['계약년월','계약일'],axis=1,inplace=True)"
      ],
      "metadata": {
        "id": "9jOyPhjg-5-q"
      },
      "execution_count": null,
      "outputs": []
    },
    {
      "cell_type": "code",
      "source": [
        "Jan_data"
      ],
      "metadata": {
        "id": "Jo5g5e2JCeTh"
      },
      "execution_count": null,
      "outputs": []
    },
    {
      "cell_type": "code",
      "source": [
        "def preprocessing(data):\n",
        "    cnt=0\n",
        "    global dosi\n",
        "    data['거래금액(만원)'].str.strip().apply(lambda x: x.replace(',',''))\n",
        "    data['거래금액(만원)']=(data['거래금액(만원)'].str.replace(',','')).str.strip().astype(int)\n",
        "    data['시군구']= data['시군구'].apply(lambda x: x.split()[0])\n",
        "    data.groupby(['시군구'])['거래금액(만원)'].mean()\n",
        "    data.dropna(inplace=True)\n",
        "    data['거래유형'] = data['거래유형'].apply(lambda x:0 if x=='중개거래' else 1)\n",
        "    data['계약년월'] = data['계약년월']-202300\n",
        "    for i in data['시군구'].unique():\n",
        "        dosi[i] = cnt\n",
        "        cnt+=1\n",
        "    data['시군구'] = data['시군구'].map(dosi)\n",
        "    \n",
        "    return data"
      ],
      "metadata": {
        "id": "e4SZ-9h242pm"
      },
      "execution_count": 7,
      "outputs": []
    },
    {
      "cell_type": "code",
      "source": [
        "Jan = preprocessing(Jan_data)\n",
        "Feb = preprocessing(Feb_Data)"
      ],
      "metadata": {
        "id": "rRAY7nvD45V_"
      },
      "execution_count": 8,
      "outputs": []
    },
    {
      "cell_type": "code",
      "source": [
        "from sklearn.linear_model import LogisticRegression\n",
        "from sklearn.model_selection import train_test_split\n",
        "from sklearn.neighbors import KNeighborsRegressor"
      ],
      "metadata": {
        "id": "d-X2NMCoqOo8"
      },
      "execution_count": 10,
      "outputs": []
    },
    {
      "cell_type": "code",
      "source": [
        "train = Jan\n",
        "test = Feb\n",
        "X_train = train.drop('거래금액(만원)',axis=1)\n",
        "y_train = train['거래금액(만원)']\n",
        "X_test = test.drop('거래금액(만원)',axis=1)\n",
        "y_test = test['거래금액(만원)']"
      ],
      "metadata": {
        "id": "OJBU6qN_TTx4"
      },
      "execution_count": 11,
      "outputs": []
    },
    {
      "cell_type": "code",
      "source": [
        "from sklearn.metrics import mean_squared_error\n",
        "models = []\n",
        "for i in range(0,50,5):\n",
        "    if i==0:\n",
        "        continue\n",
        "    model = KNeighborsRegressor(n_neighbors=i,weights='distance')\n",
        "    model.fit(X_train,y_train)\n",
        "\n",
        "    pred=model.predict(X_test)\n",
        "    rmse = mean_squared_error(y_test,pred)**0.5\n",
        "    \n",
        "    models.append(rmse)"
      ],
      "metadata": {
        "id": "zrtRm9LGTCEi"
      },
      "execution_count": 18,
      "outputs": []
    },
    {
      "cell_type": "code",
      "source": [
        "models"
      ],
      "metadata": {
        "colab": {
          "base_uri": "https://localhost:8080/"
        },
        "id": "KlpebAHn6LDm",
        "outputId": "d94a2aae-5b4c-447e-bfca-cfd0f8d1d677"
      },
      "execution_count": 13,
      "outputs": [
        {
          "output_type": "execute_result",
          "data": {
            "text/plain": [
              "[23350.30197416621,\n",
              " 23350.30197416621,\n",
              " 23350.30197416621,\n",
              " 23350.30197416621,\n",
              " 23350.30197416621,\n",
              " 23350.30197416621,\n",
              " 23350.30197416621,\n",
              " 23350.30197416621,\n",
              " 23350.30197416621]"
            ]
          },
          "metadata": {},
          "execution_count": 13
        }
      ]
    },
    {
      "cell_type": "code",
      "source": [
        "model = KNeighborsRegressor(n_neighbors=5,weights='distance')\n",
        "model.fit(X_train,y_train)\n",
        "\n",
        "pred=model.predict(X_test)\n",
        "rmse = mean_squared_error(y_test,pred)**0.5\n",
        "rmse\n",
        "\n",
        "pred,rmse"
      ],
      "metadata": {
        "colab": {
          "base_uri": "https://localhost:8080/"
        },
        "id": "9m_LvwMT8CnU",
        "outputId": "7b284e8d-f1b6-4184-8b21-7d5b66937e74"
      },
      "execution_count": 20,
      "outputs": [
        {
          "output_type": "execute_result",
          "data": {
            "text/plain": [
              "(array([25601.32632007, 37094.04558426, 37094.04558426, ...,\n",
              "        21767.04961707, 36822.99318233, 64202.15539923]), 23350.30197416621)"
            ]
          },
          "metadata": {},
          "execution_count": 20
        }
      ]
    },
    {
      "cell_type": "code",
      "source": [
        "import lightgbm as lgb\n",
        "\n",
        "model = lgb.LGBMRegressor(num_leaves=16, max_depth=4, learning_rate=0.1)\n",
        "model.fit(X_train,y_train)\n",
        "y_pred = model.predict(X_test)"
      ],
      "metadata": {
        "id": "x0hQqJH--gOA"
      },
      "execution_count": 21,
      "outputs": []
    },
    {
      "cell_type": "code",
      "source": [
        "from sklearn.metrics import r2_score, mean_squared_error\n",
        "\n",
        "r2 = r2_score(y_test, y_pred)\n",
        "mse = mean_squared_error(y_test, y_pred)\n",
        "rmse = mean_squared_error(y_test, y_pred, squared=False)"
      ],
      "metadata": {
        "id": "UqXN6YR4_N77"
      },
      "execution_count": 22,
      "outputs": []
    },
    {
      "cell_type": "code",
      "source": [
        "r2,mse,rmse"
      ],
      "metadata": {
        "colab": {
          "base_uri": "https://localhost:8080/"
        },
        "id": "_q7qhMez_R2E",
        "outputId": "42e11c5e-6c11-456e-b2bb-66348d748509"
      },
      "execution_count": 23,
      "outputs": [
        {
          "output_type": "execute_result",
          "data": {
            "text/plain": [
              "(0.6964648045531482, 326502865.5485267, 18069.390292661417)"
            ]
          },
          "metadata": {},
          "execution_count": 23
        }
      ]
    }
  ]
}