{
  "nbformat": 4,
  "nbformat_minor": 0,
  "metadata": {
    "colab": {
      "provenance": [],
      "include_colab_link": true
    },
    "kernelspec": {
      "name": "python3",
      "display_name": "Python 3"
    },
    "language_info": {
      "name": "python"
    }
  },
  "cells": [
    {
      "cell_type": "markdown",
      "metadata": {
        "id": "view-in-github",
        "colab_type": "text"
      },
      "source": [
        "<a href=\"https://colab.research.google.com/github/hiid0726/ML_Projiect/blob/main/web/%EC%95%84%ED%8C%8C%ED%8A%B8_%EC%8B%A4%EA%B1%B0%EB%9E%98%EA%B0%80_LightGBM_ym.ipynb\" target=\"_parent\"><img src=\"https://colab.research.google.com/assets/colab-badge.svg\" alt=\"Open In Colab\"/></a>"
      ]
    },
    {
      "cell_type": "markdown",
      "source": [
        "# 아파트 실거래가 예측"
      ],
      "metadata": {
        "id": "07IfQ4Px3USS"
      }
    },
    {
      "cell_type": "code",
      "source": [
        "#@title 폰트 설정\n",
        "!sudo apt-get install -y fonts-nanum\n",
        "!sudo fc-cache -fv\n",
        "!rm ~/.cache/matplotlib -rf"
      ],
      "metadata": {
        "colab": {
          "base_uri": "https://localhost:8080/"
        },
        "id": "PhyiwsxW3TK8",
        "outputId": "80214dc0-9e55-4189-b793-92af703336c6"
      },
      "execution_count": 1,
      "outputs": [
        {
          "output_type": "stream",
          "name": "stdout",
          "text": [
            "Reading package lists... Done\n",
            "Building dependency tree       \n",
            "Reading state information... Done\n",
            "The following NEW packages will be installed:\n",
            "  fonts-nanum\n",
            "0 upgraded, 1 newly installed, 0 to remove and 23 not upgraded.\n",
            "Need to get 9,599 kB of archives.\n",
            "After this operation, 29.6 MB of additional disk space will be used.\n",
            "Get:1 http://archive.ubuntu.com/ubuntu focal/universe amd64 fonts-nanum all 20180306-3 [9,599 kB]\n",
            "Fetched 9,599 kB in 0s (41.5 MB/s)\n",
            "debconf: unable to initialize frontend: Dialog\n",
            "debconf: (No usable dialog-like program is installed, so the dialog based frontend cannot be used. at /usr/share/perl5/Debconf/FrontEnd/Dialog.pm line 76, <> line 1.)\n",
            "debconf: falling back to frontend: Readline\n",
            "debconf: unable to initialize frontend: Readline\n",
            "debconf: (This frontend requires a controlling tty.)\n",
            "debconf: falling back to frontend: Teletype\n",
            "dpkg-preconfigure: unable to re-open stdin: \n",
            "Selecting previously unselected package fonts-nanum.\n",
            "(Reading database ... 128285 files and directories currently installed.)\n",
            "Preparing to unpack .../fonts-nanum_20180306-3_all.deb ...\n",
            "Unpacking fonts-nanum (20180306-3) ...\n",
            "Setting up fonts-nanum (20180306-3) ...\n",
            "Processing triggers for fontconfig (2.13.1-2ubuntu3) ...\n",
            "/usr/share/fonts: caching, new cache contents: 0 fonts, 1 dirs\n",
            "/usr/share/fonts/truetype: caching, new cache contents: 0 fonts, 3 dirs\n",
            "/usr/share/fonts/truetype/humor-sans: caching, new cache contents: 1 fonts, 0 dirs\n",
            "/usr/share/fonts/truetype/liberation: caching, new cache contents: 16 fonts, 0 dirs\n",
            "/usr/share/fonts/truetype/nanum: caching, new cache contents: 10 fonts, 0 dirs\n",
            "/usr/local/share/fonts: caching, new cache contents: 0 fonts, 0 dirs\n",
            "/root/.local/share/fonts: skipping, no such directory\n",
            "/root/.fonts: skipping, no such directory\n",
            "/usr/share/fonts/truetype: skipping, looped directory detected\n",
            "/usr/share/fonts/truetype/humor-sans: skipping, looped directory detected\n",
            "/usr/share/fonts/truetype/liberation: skipping, looped directory detected\n",
            "/usr/share/fonts/truetype/nanum: skipping, looped directory detected\n",
            "/var/cache/fontconfig: cleaning cache directory\n",
            "/root/.cache/fontconfig: not cleaning non-existent cache directory\n",
            "/root/.fontconfig: not cleaning non-existent cache directory\n",
            "fc-cache: succeeded\n"
          ]
        }
      ]
    },
    {
      "cell_type": "code",
      "source": [
        "import pandas as pd\n",
        "import numpy as np\n",
        "from sklearn.model_selection import train_test_split\n",
        "import matplotlib.pyplot as plt\n",
        "import xgboost as xgb\n",
        "import seaborn as sns\n",
        "from sklearn.metrics import mean_squared_error\n",
        "from sklearn.metrics import mean_squared_log_error"
      ],
      "metadata": {
        "id": "S_2aW-Z63i-L"
      },
      "execution_count": 2,
      "outputs": []
    },
    {
      "cell_type": "code",
      "source": [
        "plt.rc('font', family='NanumBarunGothic') "
      ],
      "metadata": {
        "id": "GTgVx6xq3eWR"
      },
      "execution_count": 4,
      "outputs": []
    },
    {
      "cell_type": "code",
      "source": [
        "#@title 기초 데이터\n",
        "# 시군구 - 전용면적, 계약년월, 거래 금액, 건축년도, 거래유형\n",
        "df_1 = pd.read_csv('https://github.com/jaiwon880/ML_Projiect/raw/main/Data/%EC%95%84%ED%8C%8C%ED%8A%B8_%EB%A7%A4%EB%A7%A4__%EC%8B%A4%EA%B1%B0%EB%9E%98%EA%B0%80_20230321134107_1%EC%9B%94.csv')\n",
        "df_1\n",
        "df_2 = pd.read_csv('https://github.com/tkd8973/ML_Project/raw/main/Data/%EC%95%84%ED%8C%8C%ED%8A%B8_%EB%A7%A4%EB%A7%A4__%EC%8B%A4%EA%B1%B0%EB%9E%98%EA%B0%80_20230321134120_2%EC%9B%94.csv')"
      ],
      "metadata": {
        "id": "HWkIn6N6KCb0"
      },
      "execution_count": 3,
      "outputs": []
    },
    {
      "cell_type": "code",
      "source": [
        "df = pd.concat([df_1,df_2])"
      ],
      "metadata": {
        "id": "41NCFbw8GYfr"
      },
      "execution_count": 5,
      "outputs": []
    },
    {
      "cell_type": "code",
      "source": [
        "df.info()"
      ],
      "metadata": {
        "colab": {
          "base_uri": "https://localhost:8080/"
        },
        "id": "Y0A-J17Fs2Tb",
        "outputId": "58814ff1-17fc-4d91-c485-7561f2170bb0"
      },
      "execution_count": 88,
      "outputs": [
        {
          "output_type": "stream",
          "name": "stdout",
          "text": [
            "<class 'pandas.core.frame.DataFrame'>\n",
            "Int64Index: 52013 entries, 0 to 32010\n",
            "Data columns (total 7 columns):\n",
            " #   Column    Non-Null Count  Dtype  \n",
            "---  ------    --------------  -----  \n",
            " 0   시군구       52013 non-null  object \n",
            " 1   전용면적(㎡)   52013 non-null  float64\n",
            " 2   계약년월      52013 non-null  int64  \n",
            " 3   계약일       52013 non-null  int64  \n",
            " 4   거래금액(만원)  52013 non-null  object \n",
            " 5   건축년도      52003 non-null  float64\n",
            " 6   거래유형      52013 non-null  object \n",
            "dtypes: float64(2), int64(2), object(3)\n",
            "memory usage: 3.2+ MB\n"
          ]
        }
      ]
    },
    {
      "cell_type": "code",
      "source": [
        "df.describe()"
      ],
      "metadata": {
        "colab": {
          "base_uri": "https://localhost:8080/",
          "height": 300
        },
        "id": "tADQlcmqC6eQ",
        "outputId": "39aeb2db-260b-4372-9244-5f66df520c9f"
      },
      "execution_count": 90,
      "outputs": [
        {
          "output_type": "execute_result",
          "data": {
            "text/plain": [
              "            전용면적(㎡)           계약년월           계약일          건축년도\n",
              "count  52013.000000   52013.000000  52013.000000  52003.000000\n",
              "mean      73.537838  202301.615442     15.228558   2006.086860\n",
              "std       22.838342       0.486495      8.287285     10.634784\n",
              "min       11.790000  202301.000000      1.000000   1962.000000\n",
              "25%       59.820000  202301.000000      8.000000   1997.000000\n",
              "50%       75.925800  202302.000000     15.000000   2006.000000\n",
              "75%       84.950000  202302.000000     22.000000   2017.000000\n",
              "max      290.997100  202302.000000     31.000000   2023.000000"
            ],
            "text/html": [
              "\n",
              "  <div id=\"df-2422f238-0dbe-4555-8fcd-26b1d704c090\">\n",
              "    <div class=\"colab-df-container\">\n",
              "      <div>\n",
              "<style scoped>\n",
              "    .dataframe tbody tr th:only-of-type {\n",
              "        vertical-align: middle;\n",
              "    }\n",
              "\n",
              "    .dataframe tbody tr th {\n",
              "        vertical-align: top;\n",
              "    }\n",
              "\n",
              "    .dataframe thead th {\n",
              "        text-align: right;\n",
              "    }\n",
              "</style>\n",
              "<table border=\"1\" class=\"dataframe\">\n",
              "  <thead>\n",
              "    <tr style=\"text-align: right;\">\n",
              "      <th></th>\n",
              "      <th>전용면적(㎡)</th>\n",
              "      <th>계약년월</th>\n",
              "      <th>계약일</th>\n",
              "      <th>건축년도</th>\n",
              "    </tr>\n",
              "  </thead>\n",
              "  <tbody>\n",
              "    <tr>\n",
              "      <th>count</th>\n",
              "      <td>52013.000000</td>\n",
              "      <td>52013.000000</td>\n",
              "      <td>52013.000000</td>\n",
              "      <td>52003.000000</td>\n",
              "    </tr>\n",
              "    <tr>\n",
              "      <th>mean</th>\n",
              "      <td>73.537838</td>\n",
              "      <td>202301.615442</td>\n",
              "      <td>15.228558</td>\n",
              "      <td>2006.086860</td>\n",
              "    </tr>\n",
              "    <tr>\n",
              "      <th>std</th>\n",
              "      <td>22.838342</td>\n",
              "      <td>0.486495</td>\n",
              "      <td>8.287285</td>\n",
              "      <td>10.634784</td>\n",
              "    </tr>\n",
              "    <tr>\n",
              "      <th>min</th>\n",
              "      <td>11.790000</td>\n",
              "      <td>202301.000000</td>\n",
              "      <td>1.000000</td>\n",
              "      <td>1962.000000</td>\n",
              "    </tr>\n",
              "    <tr>\n",
              "      <th>25%</th>\n",
              "      <td>59.820000</td>\n",
              "      <td>202301.000000</td>\n",
              "      <td>8.000000</td>\n",
              "      <td>1997.000000</td>\n",
              "    </tr>\n",
              "    <tr>\n",
              "      <th>50%</th>\n",
              "      <td>75.925800</td>\n",
              "      <td>202302.000000</td>\n",
              "      <td>15.000000</td>\n",
              "      <td>2006.000000</td>\n",
              "    </tr>\n",
              "    <tr>\n",
              "      <th>75%</th>\n",
              "      <td>84.950000</td>\n",
              "      <td>202302.000000</td>\n",
              "      <td>22.000000</td>\n",
              "      <td>2017.000000</td>\n",
              "    </tr>\n",
              "    <tr>\n",
              "      <th>max</th>\n",
              "      <td>290.997100</td>\n",
              "      <td>202302.000000</td>\n",
              "      <td>31.000000</td>\n",
              "      <td>2023.000000</td>\n",
              "    </tr>\n",
              "  </tbody>\n",
              "</table>\n",
              "</div>\n",
              "      <button class=\"colab-df-convert\" onclick=\"convertToInteractive('df-2422f238-0dbe-4555-8fcd-26b1d704c090')\"\n",
              "              title=\"Convert this dataframe to an interactive table.\"\n",
              "              style=\"display:none;\">\n",
              "        \n",
              "  <svg xmlns=\"http://www.w3.org/2000/svg\" height=\"24px\"viewBox=\"0 0 24 24\"\n",
              "       width=\"24px\">\n",
              "    <path d=\"M0 0h24v24H0V0z\" fill=\"none\"/>\n",
              "    <path d=\"M18.56 5.44l.94 2.06.94-2.06 2.06-.94-2.06-.94-.94-2.06-.94 2.06-2.06.94zm-11 1L8.5 8.5l.94-2.06 2.06-.94-2.06-.94L8.5 2.5l-.94 2.06-2.06.94zm10 10l.94 2.06.94-2.06 2.06-.94-2.06-.94-.94-2.06-.94 2.06-2.06.94z\"/><path d=\"M17.41 7.96l-1.37-1.37c-.4-.4-.92-.59-1.43-.59-.52 0-1.04.2-1.43.59L10.3 9.45l-7.72 7.72c-.78.78-.78 2.05 0 2.83L4 21.41c.39.39.9.59 1.41.59.51 0 1.02-.2 1.41-.59l7.78-7.78 2.81-2.81c.8-.78.8-2.07 0-2.86zM5.41 20L4 18.59l7.72-7.72 1.47 1.35L5.41 20z\"/>\n",
              "  </svg>\n",
              "      </button>\n",
              "      \n",
              "  <style>\n",
              "    .colab-df-container {\n",
              "      display:flex;\n",
              "      flex-wrap:wrap;\n",
              "      gap: 12px;\n",
              "    }\n",
              "\n",
              "    .colab-df-convert {\n",
              "      background-color: #E8F0FE;\n",
              "      border: none;\n",
              "      border-radius: 50%;\n",
              "      cursor: pointer;\n",
              "      display: none;\n",
              "      fill: #1967D2;\n",
              "      height: 32px;\n",
              "      padding: 0 0 0 0;\n",
              "      width: 32px;\n",
              "    }\n",
              "\n",
              "    .colab-df-convert:hover {\n",
              "      background-color: #E2EBFA;\n",
              "      box-shadow: 0px 1px 2px rgba(60, 64, 67, 0.3), 0px 1px 3px 1px rgba(60, 64, 67, 0.15);\n",
              "      fill: #174EA6;\n",
              "    }\n",
              "\n",
              "    [theme=dark] .colab-df-convert {\n",
              "      background-color: #3B4455;\n",
              "      fill: #D2E3FC;\n",
              "    }\n",
              "\n",
              "    [theme=dark] .colab-df-convert:hover {\n",
              "      background-color: #434B5C;\n",
              "      box-shadow: 0px 1px 3px 1px rgba(0, 0, 0, 0.15);\n",
              "      filter: drop-shadow(0px 1px 2px rgba(0, 0, 0, 0.3));\n",
              "      fill: #FFFFFF;\n",
              "    }\n",
              "  </style>\n",
              "\n",
              "      <script>\n",
              "        const buttonEl =\n",
              "          document.querySelector('#df-2422f238-0dbe-4555-8fcd-26b1d704c090 button.colab-df-convert');\n",
              "        buttonEl.style.display =\n",
              "          google.colab.kernel.accessAllowed ? 'block' : 'none';\n",
              "\n",
              "        async function convertToInteractive(key) {\n",
              "          const element = document.querySelector('#df-2422f238-0dbe-4555-8fcd-26b1d704c090');\n",
              "          const dataTable =\n",
              "            await google.colab.kernel.invokeFunction('convertToInteractive',\n",
              "                                                     [key], {});\n",
              "          if (!dataTable) return;\n",
              "\n",
              "          const docLinkHtml = 'Like what you see? Visit the ' +\n",
              "            '<a target=\"_blank\" href=https://colab.research.google.com/notebooks/data_table.ipynb>data table notebook</a>'\n",
              "            + ' to learn more about interactive tables.';\n",
              "          element.innerHTML = '';\n",
              "          dataTable['output_type'] = 'display_data';\n",
              "          await google.colab.output.renderOutput(dataTable, element);\n",
              "          const docLink = document.createElement('div');\n",
              "          docLink.innerHTML = docLinkHtml;\n",
              "          element.appendChild(docLink);\n",
              "        }\n",
              "      </script>\n",
              "    </div>\n",
              "  </div>\n",
              "  "
            ]
          },
          "metadata": {},
          "execution_count": 90
        }
      ]
    },
    {
      "cell_type": "code",
      "source": [
        "df['거래금액(만원)'].str.strip().replace(' ','')\n",
        "df"
      ],
      "metadata": {
        "colab": {
          "base_uri": "https://localhost:8080/",
          "height": 423
        },
        "id": "AogoVd24tUdl",
        "outputId": "f1c5128c-4353-4401-ba39-0ded2a9717cb"
      },
      "execution_count": 6,
      "outputs": [
        {
          "output_type": "execute_result",
          "data": {
            "text/plain": [
              "                시군구  전용면적(㎡)    계약년월  계약일        거래금액(만원)    건축년도  거래유형\n",
              "0       강원도 강릉시 견소동  84.9300  202301    4          25,000  1997.0  중개거래\n",
              "1       강원도 강릉시 견소동  84.9900  202301    5          29,800  2005.0  중개거래\n",
              "2       강원도 강릉시 견소동  84.9900  202301   25          28,500  2005.0  중개거래\n",
              "3        강원도 강릉시 교동  59.8600  202301    4          20,000  2002.0   직거래\n",
              "4        강원도 강릉시 교동  59.8400  202301   11          25,000  2002.0  중개거래\n",
              "...             ...      ...     ...  ...             ...     ...   ...\n",
              "32006  충청북도 충주시 호암동  84.9289  202302   16          23,000  2007.0  중개거래\n",
              "32007  충청북도 충주시 호암동  84.9289  202302   21          23,000  2007.0  중개거래\n",
              "32008  충청북도 충주시 호암동  84.6800  202302    2          20,800  2002.0  중개거래\n",
              "32009  충청북도 충주시 호암동  84.9500  202302    2          40,000  2019.0  중개거래\n",
              "32010  충청북도 충주시 호암동  99.8000  202302   16          49,000  2019.0  중개거래\n",
              "\n",
              "[52013 rows x 7 columns]"
            ],
            "text/html": [
              "\n",
              "  <div id=\"df-170b702f-ceaa-40db-8c9e-5203cc4d5aab\">\n",
              "    <div class=\"colab-df-container\">\n",
              "      <div>\n",
              "<style scoped>\n",
              "    .dataframe tbody tr th:only-of-type {\n",
              "        vertical-align: middle;\n",
              "    }\n",
              "\n",
              "    .dataframe tbody tr th {\n",
              "        vertical-align: top;\n",
              "    }\n",
              "\n",
              "    .dataframe thead th {\n",
              "        text-align: right;\n",
              "    }\n",
              "</style>\n",
              "<table border=\"1\" class=\"dataframe\">\n",
              "  <thead>\n",
              "    <tr style=\"text-align: right;\">\n",
              "      <th></th>\n",
              "      <th>시군구</th>\n",
              "      <th>전용면적(㎡)</th>\n",
              "      <th>계약년월</th>\n",
              "      <th>계약일</th>\n",
              "      <th>거래금액(만원)</th>\n",
              "      <th>건축년도</th>\n",
              "      <th>거래유형</th>\n",
              "    </tr>\n",
              "  </thead>\n",
              "  <tbody>\n",
              "    <tr>\n",
              "      <th>0</th>\n",
              "      <td>강원도 강릉시 견소동</td>\n",
              "      <td>84.9300</td>\n",
              "      <td>202301</td>\n",
              "      <td>4</td>\n",
              "      <td>25,000</td>\n",
              "      <td>1997.0</td>\n",
              "      <td>중개거래</td>\n",
              "    </tr>\n",
              "    <tr>\n",
              "      <th>1</th>\n",
              "      <td>강원도 강릉시 견소동</td>\n",
              "      <td>84.9900</td>\n",
              "      <td>202301</td>\n",
              "      <td>5</td>\n",
              "      <td>29,800</td>\n",
              "      <td>2005.0</td>\n",
              "      <td>중개거래</td>\n",
              "    </tr>\n",
              "    <tr>\n",
              "      <th>2</th>\n",
              "      <td>강원도 강릉시 견소동</td>\n",
              "      <td>84.9900</td>\n",
              "      <td>202301</td>\n",
              "      <td>25</td>\n",
              "      <td>28,500</td>\n",
              "      <td>2005.0</td>\n",
              "      <td>중개거래</td>\n",
              "    </tr>\n",
              "    <tr>\n",
              "      <th>3</th>\n",
              "      <td>강원도 강릉시 교동</td>\n",
              "      <td>59.8600</td>\n",
              "      <td>202301</td>\n",
              "      <td>4</td>\n",
              "      <td>20,000</td>\n",
              "      <td>2002.0</td>\n",
              "      <td>직거래</td>\n",
              "    </tr>\n",
              "    <tr>\n",
              "      <th>4</th>\n",
              "      <td>강원도 강릉시 교동</td>\n",
              "      <td>59.8400</td>\n",
              "      <td>202301</td>\n",
              "      <td>11</td>\n",
              "      <td>25,000</td>\n",
              "      <td>2002.0</td>\n",
              "      <td>중개거래</td>\n",
              "    </tr>\n",
              "    <tr>\n",
              "      <th>...</th>\n",
              "      <td>...</td>\n",
              "      <td>...</td>\n",
              "      <td>...</td>\n",
              "      <td>...</td>\n",
              "      <td>...</td>\n",
              "      <td>...</td>\n",
              "      <td>...</td>\n",
              "    </tr>\n",
              "    <tr>\n",
              "      <th>32006</th>\n",
              "      <td>충청북도 충주시 호암동</td>\n",
              "      <td>84.9289</td>\n",
              "      <td>202302</td>\n",
              "      <td>16</td>\n",
              "      <td>23,000</td>\n",
              "      <td>2007.0</td>\n",
              "      <td>중개거래</td>\n",
              "    </tr>\n",
              "    <tr>\n",
              "      <th>32007</th>\n",
              "      <td>충청북도 충주시 호암동</td>\n",
              "      <td>84.9289</td>\n",
              "      <td>202302</td>\n",
              "      <td>21</td>\n",
              "      <td>23,000</td>\n",
              "      <td>2007.0</td>\n",
              "      <td>중개거래</td>\n",
              "    </tr>\n",
              "    <tr>\n",
              "      <th>32008</th>\n",
              "      <td>충청북도 충주시 호암동</td>\n",
              "      <td>84.6800</td>\n",
              "      <td>202302</td>\n",
              "      <td>2</td>\n",
              "      <td>20,800</td>\n",
              "      <td>2002.0</td>\n",
              "      <td>중개거래</td>\n",
              "    </tr>\n",
              "    <tr>\n",
              "      <th>32009</th>\n",
              "      <td>충청북도 충주시 호암동</td>\n",
              "      <td>84.9500</td>\n",
              "      <td>202302</td>\n",
              "      <td>2</td>\n",
              "      <td>40,000</td>\n",
              "      <td>2019.0</td>\n",
              "      <td>중개거래</td>\n",
              "    </tr>\n",
              "    <tr>\n",
              "      <th>32010</th>\n",
              "      <td>충청북도 충주시 호암동</td>\n",
              "      <td>99.8000</td>\n",
              "      <td>202302</td>\n",
              "      <td>16</td>\n",
              "      <td>49,000</td>\n",
              "      <td>2019.0</td>\n",
              "      <td>중개거래</td>\n",
              "    </tr>\n",
              "  </tbody>\n",
              "</table>\n",
              "<p>52013 rows × 7 columns</p>\n",
              "</div>\n",
              "      <button class=\"colab-df-convert\" onclick=\"convertToInteractive('df-170b702f-ceaa-40db-8c9e-5203cc4d5aab')\"\n",
              "              title=\"Convert this dataframe to an interactive table.\"\n",
              "              style=\"display:none;\">\n",
              "        \n",
              "  <svg xmlns=\"http://www.w3.org/2000/svg\" height=\"24px\"viewBox=\"0 0 24 24\"\n",
              "       width=\"24px\">\n",
              "    <path d=\"M0 0h24v24H0V0z\" fill=\"none\"/>\n",
              "    <path d=\"M18.56 5.44l.94 2.06.94-2.06 2.06-.94-2.06-.94-.94-2.06-.94 2.06-2.06.94zm-11 1L8.5 8.5l.94-2.06 2.06-.94-2.06-.94L8.5 2.5l-.94 2.06-2.06.94zm10 10l.94 2.06.94-2.06 2.06-.94-2.06-.94-.94-2.06-.94 2.06-2.06.94z\"/><path d=\"M17.41 7.96l-1.37-1.37c-.4-.4-.92-.59-1.43-.59-.52 0-1.04.2-1.43.59L10.3 9.45l-7.72 7.72c-.78.78-.78 2.05 0 2.83L4 21.41c.39.39.9.59 1.41.59.51 0 1.02-.2 1.41-.59l7.78-7.78 2.81-2.81c.8-.78.8-2.07 0-2.86zM5.41 20L4 18.59l7.72-7.72 1.47 1.35L5.41 20z\"/>\n",
              "  </svg>\n",
              "      </button>\n",
              "      \n",
              "  <style>\n",
              "    .colab-df-container {\n",
              "      display:flex;\n",
              "      flex-wrap:wrap;\n",
              "      gap: 12px;\n",
              "    }\n",
              "\n",
              "    .colab-df-convert {\n",
              "      background-color: #E8F0FE;\n",
              "      border: none;\n",
              "      border-radius: 50%;\n",
              "      cursor: pointer;\n",
              "      display: none;\n",
              "      fill: #1967D2;\n",
              "      height: 32px;\n",
              "      padding: 0 0 0 0;\n",
              "      width: 32px;\n",
              "    }\n",
              "\n",
              "    .colab-df-convert:hover {\n",
              "      background-color: #E2EBFA;\n",
              "      box-shadow: 0px 1px 2px rgba(60, 64, 67, 0.3), 0px 1px 3px 1px rgba(60, 64, 67, 0.15);\n",
              "      fill: #174EA6;\n",
              "    }\n",
              "\n",
              "    [theme=dark] .colab-df-convert {\n",
              "      background-color: #3B4455;\n",
              "      fill: #D2E3FC;\n",
              "    }\n",
              "\n",
              "    [theme=dark] .colab-df-convert:hover {\n",
              "      background-color: #434B5C;\n",
              "      box-shadow: 0px 1px 3px 1px rgba(0, 0, 0, 0.15);\n",
              "      filter: drop-shadow(0px 1px 2px rgba(0, 0, 0, 0.3));\n",
              "      fill: #FFFFFF;\n",
              "    }\n",
              "  </style>\n",
              "\n",
              "      <script>\n",
              "        const buttonEl =\n",
              "          document.querySelector('#df-170b702f-ceaa-40db-8c9e-5203cc4d5aab button.colab-df-convert');\n",
              "        buttonEl.style.display =\n",
              "          google.colab.kernel.accessAllowed ? 'block' : 'none';\n",
              "\n",
              "        async function convertToInteractive(key) {\n",
              "          const element = document.querySelector('#df-170b702f-ceaa-40db-8c9e-5203cc4d5aab');\n",
              "          const dataTable =\n",
              "            await google.colab.kernel.invokeFunction('convertToInteractive',\n",
              "                                                     [key], {});\n",
              "          if (!dataTable) return;\n",
              "\n",
              "          const docLinkHtml = 'Like what you see? Visit the ' +\n",
              "            '<a target=\"_blank\" href=https://colab.research.google.com/notebooks/data_table.ipynb>data table notebook</a>'\n",
              "            + ' to learn more about interactive tables.';\n",
              "          element.innerHTML = '';\n",
              "          dataTable['output_type'] = 'display_data';\n",
              "          await google.colab.output.renderOutput(dataTable, element);\n",
              "          const docLink = document.createElement('div');\n",
              "          docLink.innerHTML = docLinkHtml;\n",
              "          element.appendChild(docLink);\n",
              "        }\n",
              "      </script>\n",
              "    </div>\n",
              "  </div>\n",
              "  "
            ]
          },
          "metadata": {},
          "execution_count": 6
        }
      ]
    },
    {
      "cell_type": "code",
      "source": [
        "#@title 평당가 금액\n",
        "df[\"거래금액(만원)\"] = df[\"거래금액(만원)\"].str.replace(\",\", \"\").astype(int) # 거래금액 컬럼의 쉼표를 제거하고 정수형으로 변환\n",
        "df[\"평당가\"] = (df[\"거래금액(만원)\"] / df[\"전용면적(㎡)\"]) * 3.3 # 평당가 계산하여 새로운 컬럼 추가\n",
        "df[\"평당가\"]"
      ],
      "metadata": {
        "colab": {
          "base_uri": "https://localhost:8080/"
        },
        "id": "_-ilnkEv3Do7",
        "outputId": "64c8092e-0337-4b50-a774-b6b10a6f889a"
      },
      "execution_count": 7,
      "outputs": [
        {
          "output_type": "execute_result",
          "data": {
            "text/plain": [
              "0         971.388202\n",
              "1        1157.077303\n",
              "2        1106.600777\n",
              "3        1102.572670\n",
              "4        1378.676471\n",
              "            ...     \n",
              "32006     893.688721\n",
              "32007     893.688721\n",
              "32008     810.581011\n",
              "32009    1553.855209\n",
              "32010    1620.240481\n",
              "Name: 평당가, Length: 52013, dtype: float64"
            ]
          },
          "metadata": {},
          "execution_count": 7
        }
      ]
    },
    {
      "cell_type": "code",
      "source": [
        "df['금리'] = df.apply(lambda x: 3.25 if ((x['계약년월']== 202301) & (x['계약일'] < 13)) else 3.5, axis=1)\n"
      ],
      "metadata": {
        "id": "NCrkJ7DWVx39"
      },
      "execution_count": 8,
      "outputs": []
    },
    {
      "cell_type": "code",
      "source": [
        "# 계약년월\n",
        "df['날짜'] = pd.to_datetime(df['계약년월'].astype(str) + df['계약일'].astype(str), format='%Y%m%d')\n",
        "# 계약년월과 계약일 열 삭제 후 인덱스 설정\n",
        "df = df.drop(['계약년월', '계약일'], axis=1)\n",
        "df = df.set_index('날짜')"
      ],
      "metadata": {
        "id": "yyEaqmtWE2NW"
      },
      "execution_count": 9,
      "outputs": []
    },
    {
      "cell_type": "code",
      "source": [
        "df"
      ],
      "metadata": {
        "colab": {
          "base_uri": "https://localhost:8080/",
          "height": 455
        },
        "id": "nzZ67-R9K3Xc",
        "outputId": "e1b6451e-1cd8-4fe5-bd23-e91ed8978110"
      },
      "execution_count": 95,
      "outputs": [
        {
          "output_type": "execute_result",
          "data": {
            "text/plain": [
              "                     시군구  전용면적(㎡)  거래금액(만원)    건축년도  거래유형    금리          평당가\n",
              "날짜                                                                          \n",
              "2023-01-04   강원도 강릉시 견소동  84.9300     25000  1997.0  중개거래  3.25   971.388202\n",
              "2023-01-05   강원도 강릉시 견소동  84.9900     29800  2005.0  중개거래  3.25  1157.077303\n",
              "2023-01-25   강원도 강릉시 견소동  84.9900     28500  2005.0  중개거래  3.50  1106.600777\n",
              "2023-01-04    강원도 강릉시 교동  59.8600     20000  2002.0   직거래  3.25  1102.572670\n",
              "2023-01-11    강원도 강릉시 교동  59.8400     25000  2002.0  중개거래  3.25  1378.676471\n",
              "...                  ...      ...       ...     ...   ...   ...          ...\n",
              "2023-02-16  충청북도 충주시 호암동  84.9289     23000  2007.0  중개거래  3.50   893.688721\n",
              "2023-02-21  충청북도 충주시 호암동  84.9289     23000  2007.0  중개거래  3.50   893.688721\n",
              "2023-02-02  충청북도 충주시 호암동  84.6800     20800  2002.0  중개거래  3.50   810.581011\n",
              "2023-02-02  충청북도 충주시 호암동  84.9500     40000  2019.0  중개거래  3.50  1553.855209\n",
              "2023-02-16  충청북도 충주시 호암동  99.8000     49000  2019.0  중개거래  3.50  1620.240481\n",
              "\n",
              "[52013 rows x 7 columns]"
            ],
            "text/html": [
              "\n",
              "  <div id=\"df-94fafa14-0292-4f42-90fe-e11001cde21d\">\n",
              "    <div class=\"colab-df-container\">\n",
              "      <div>\n",
              "<style scoped>\n",
              "    .dataframe tbody tr th:only-of-type {\n",
              "        vertical-align: middle;\n",
              "    }\n",
              "\n",
              "    .dataframe tbody tr th {\n",
              "        vertical-align: top;\n",
              "    }\n",
              "\n",
              "    .dataframe thead th {\n",
              "        text-align: right;\n",
              "    }\n",
              "</style>\n",
              "<table border=\"1\" class=\"dataframe\">\n",
              "  <thead>\n",
              "    <tr style=\"text-align: right;\">\n",
              "      <th></th>\n",
              "      <th>시군구</th>\n",
              "      <th>전용면적(㎡)</th>\n",
              "      <th>거래금액(만원)</th>\n",
              "      <th>건축년도</th>\n",
              "      <th>거래유형</th>\n",
              "      <th>금리</th>\n",
              "      <th>평당가</th>\n",
              "    </tr>\n",
              "    <tr>\n",
              "      <th>날짜</th>\n",
              "      <th></th>\n",
              "      <th></th>\n",
              "      <th></th>\n",
              "      <th></th>\n",
              "      <th></th>\n",
              "      <th></th>\n",
              "      <th></th>\n",
              "    </tr>\n",
              "  </thead>\n",
              "  <tbody>\n",
              "    <tr>\n",
              "      <th>2023-01-04</th>\n",
              "      <td>강원도 강릉시 견소동</td>\n",
              "      <td>84.9300</td>\n",
              "      <td>25000</td>\n",
              "      <td>1997.0</td>\n",
              "      <td>중개거래</td>\n",
              "      <td>3.25</td>\n",
              "      <td>971.388202</td>\n",
              "    </tr>\n",
              "    <tr>\n",
              "      <th>2023-01-05</th>\n",
              "      <td>강원도 강릉시 견소동</td>\n",
              "      <td>84.9900</td>\n",
              "      <td>29800</td>\n",
              "      <td>2005.0</td>\n",
              "      <td>중개거래</td>\n",
              "      <td>3.25</td>\n",
              "      <td>1157.077303</td>\n",
              "    </tr>\n",
              "    <tr>\n",
              "      <th>2023-01-25</th>\n",
              "      <td>강원도 강릉시 견소동</td>\n",
              "      <td>84.9900</td>\n",
              "      <td>28500</td>\n",
              "      <td>2005.0</td>\n",
              "      <td>중개거래</td>\n",
              "      <td>3.50</td>\n",
              "      <td>1106.600777</td>\n",
              "    </tr>\n",
              "    <tr>\n",
              "      <th>2023-01-04</th>\n",
              "      <td>강원도 강릉시 교동</td>\n",
              "      <td>59.8600</td>\n",
              "      <td>20000</td>\n",
              "      <td>2002.0</td>\n",
              "      <td>직거래</td>\n",
              "      <td>3.25</td>\n",
              "      <td>1102.572670</td>\n",
              "    </tr>\n",
              "    <tr>\n",
              "      <th>2023-01-11</th>\n",
              "      <td>강원도 강릉시 교동</td>\n",
              "      <td>59.8400</td>\n",
              "      <td>25000</td>\n",
              "      <td>2002.0</td>\n",
              "      <td>중개거래</td>\n",
              "      <td>3.25</td>\n",
              "      <td>1378.676471</td>\n",
              "    </tr>\n",
              "    <tr>\n",
              "      <th>...</th>\n",
              "      <td>...</td>\n",
              "      <td>...</td>\n",
              "      <td>...</td>\n",
              "      <td>...</td>\n",
              "      <td>...</td>\n",
              "      <td>...</td>\n",
              "      <td>...</td>\n",
              "    </tr>\n",
              "    <tr>\n",
              "      <th>2023-02-16</th>\n",
              "      <td>충청북도 충주시 호암동</td>\n",
              "      <td>84.9289</td>\n",
              "      <td>23000</td>\n",
              "      <td>2007.0</td>\n",
              "      <td>중개거래</td>\n",
              "      <td>3.50</td>\n",
              "      <td>893.688721</td>\n",
              "    </tr>\n",
              "    <tr>\n",
              "      <th>2023-02-21</th>\n",
              "      <td>충청북도 충주시 호암동</td>\n",
              "      <td>84.9289</td>\n",
              "      <td>23000</td>\n",
              "      <td>2007.0</td>\n",
              "      <td>중개거래</td>\n",
              "      <td>3.50</td>\n",
              "      <td>893.688721</td>\n",
              "    </tr>\n",
              "    <tr>\n",
              "      <th>2023-02-02</th>\n",
              "      <td>충청북도 충주시 호암동</td>\n",
              "      <td>84.6800</td>\n",
              "      <td>20800</td>\n",
              "      <td>2002.0</td>\n",
              "      <td>중개거래</td>\n",
              "      <td>3.50</td>\n",
              "      <td>810.581011</td>\n",
              "    </tr>\n",
              "    <tr>\n",
              "      <th>2023-02-02</th>\n",
              "      <td>충청북도 충주시 호암동</td>\n",
              "      <td>84.9500</td>\n",
              "      <td>40000</td>\n",
              "      <td>2019.0</td>\n",
              "      <td>중개거래</td>\n",
              "      <td>3.50</td>\n",
              "      <td>1553.855209</td>\n",
              "    </tr>\n",
              "    <tr>\n",
              "      <th>2023-02-16</th>\n",
              "      <td>충청북도 충주시 호암동</td>\n",
              "      <td>99.8000</td>\n",
              "      <td>49000</td>\n",
              "      <td>2019.0</td>\n",
              "      <td>중개거래</td>\n",
              "      <td>3.50</td>\n",
              "      <td>1620.240481</td>\n",
              "    </tr>\n",
              "  </tbody>\n",
              "</table>\n",
              "<p>52013 rows × 7 columns</p>\n",
              "</div>\n",
              "      <button class=\"colab-df-convert\" onclick=\"convertToInteractive('df-94fafa14-0292-4f42-90fe-e11001cde21d')\"\n",
              "              title=\"Convert this dataframe to an interactive table.\"\n",
              "              style=\"display:none;\">\n",
              "        \n",
              "  <svg xmlns=\"http://www.w3.org/2000/svg\" height=\"24px\"viewBox=\"0 0 24 24\"\n",
              "       width=\"24px\">\n",
              "    <path d=\"M0 0h24v24H0V0z\" fill=\"none\"/>\n",
              "    <path d=\"M18.56 5.44l.94 2.06.94-2.06 2.06-.94-2.06-.94-.94-2.06-.94 2.06-2.06.94zm-11 1L8.5 8.5l.94-2.06 2.06-.94-2.06-.94L8.5 2.5l-.94 2.06-2.06.94zm10 10l.94 2.06.94-2.06 2.06-.94-2.06-.94-.94-2.06-.94 2.06-2.06.94z\"/><path d=\"M17.41 7.96l-1.37-1.37c-.4-.4-.92-.59-1.43-.59-.52 0-1.04.2-1.43.59L10.3 9.45l-7.72 7.72c-.78.78-.78 2.05 0 2.83L4 21.41c.39.39.9.59 1.41.59.51 0 1.02-.2 1.41-.59l7.78-7.78 2.81-2.81c.8-.78.8-2.07 0-2.86zM5.41 20L4 18.59l7.72-7.72 1.47 1.35L5.41 20z\"/>\n",
              "  </svg>\n",
              "      </button>\n",
              "      \n",
              "  <style>\n",
              "    .colab-df-container {\n",
              "      display:flex;\n",
              "      flex-wrap:wrap;\n",
              "      gap: 12px;\n",
              "    }\n",
              "\n",
              "    .colab-df-convert {\n",
              "      background-color: #E8F0FE;\n",
              "      border: none;\n",
              "      border-radius: 50%;\n",
              "      cursor: pointer;\n",
              "      display: none;\n",
              "      fill: #1967D2;\n",
              "      height: 32px;\n",
              "      padding: 0 0 0 0;\n",
              "      width: 32px;\n",
              "    }\n",
              "\n",
              "    .colab-df-convert:hover {\n",
              "      background-color: #E2EBFA;\n",
              "      box-shadow: 0px 1px 2px rgba(60, 64, 67, 0.3), 0px 1px 3px 1px rgba(60, 64, 67, 0.15);\n",
              "      fill: #174EA6;\n",
              "    }\n",
              "\n",
              "    [theme=dark] .colab-df-convert {\n",
              "      background-color: #3B4455;\n",
              "      fill: #D2E3FC;\n",
              "    }\n",
              "\n",
              "    [theme=dark] .colab-df-convert:hover {\n",
              "      background-color: #434B5C;\n",
              "      box-shadow: 0px 1px 3px 1px rgba(0, 0, 0, 0.15);\n",
              "      filter: drop-shadow(0px 1px 2px rgba(0, 0, 0, 0.3));\n",
              "      fill: #FFFFFF;\n",
              "    }\n",
              "  </style>\n",
              "\n",
              "      <script>\n",
              "        const buttonEl =\n",
              "          document.querySelector('#df-94fafa14-0292-4f42-90fe-e11001cde21d button.colab-df-convert');\n",
              "        buttonEl.style.display =\n",
              "          google.colab.kernel.accessAllowed ? 'block' : 'none';\n",
              "\n",
              "        async function convertToInteractive(key) {\n",
              "          const element = document.querySelector('#df-94fafa14-0292-4f42-90fe-e11001cde21d');\n",
              "          const dataTable =\n",
              "            await google.colab.kernel.invokeFunction('convertToInteractive',\n",
              "                                                     [key], {});\n",
              "          if (!dataTable) return;\n",
              "\n",
              "          const docLinkHtml = 'Like what you see? Visit the ' +\n",
              "            '<a target=\"_blank\" href=https://colab.research.google.com/notebooks/data_table.ipynb>data table notebook</a>'\n",
              "            + ' to learn more about interactive tables.';\n",
              "          element.innerHTML = '';\n",
              "          dataTable['output_type'] = 'display_data';\n",
              "          await google.colab.output.renderOutput(dataTable, element);\n",
              "          const docLink = document.createElement('div');\n",
              "          docLink.innerHTML = docLinkHtml;\n",
              "          element.appendChild(docLink);\n",
              "        }\n",
              "      </script>\n",
              "    </div>\n",
              "  </div>\n",
              "  "
            ]
          },
          "metadata": {},
          "execution_count": 95
        }
      ]
    },
    {
      "cell_type": "code",
      "source": [
        "df = df.drop('시군구', axis=1)\n",
        "df['거래유형'] = df['거래유형'].replace({'중개거래': 0, '직거래': 1})"
      ],
      "metadata": {
        "id": "_enxr4lkACVQ"
      },
      "execution_count": 10,
      "outputs": []
    },
    {
      "cell_type": "code",
      "source": [
        "#@title 결측치 삭제 \n",
        "df.isna().sum()\n",
        "df.dropna(inplace=True)"
      ],
      "metadata": {
        "id": "H-ONGrShOVTs"
      },
      "execution_count": 11,
      "outputs": []
    },
    {
      "cell_type": "code",
      "source": [
        "df.isna().sum()"
      ],
      "metadata": {
        "id": "nRQIbDgUQAJl",
        "colab": {
          "base_uri": "https://localhost:8080/"
        },
        "outputId": "cfeb34d8-24e9-4594-d113-a7e857e40bce"
      },
      "execution_count": 98,
      "outputs": [
        {
          "output_type": "execute_result",
          "data": {
            "text/plain": [
              "전용면적(㎡)     0\n",
              "거래금액(만원)    0\n",
              "건축년도        0\n",
              "거래유형        0\n",
              "금리          0\n",
              "평당가         0\n",
              "dtype: int64"
            ]
          },
          "metadata": {},
          "execution_count": 98
        }
      ]
    },
    {
      "cell_type": "code",
      "source": [
        "df.index"
      ],
      "metadata": {
        "id": "KCNNcyjSBUxg"
      },
      "execution_count": null,
      "outputs": []
    },
    {
      "cell_type": "code",
      "source": [
        "#@title 훈련셋 테스트셋 나누기\n",
        "\n",
        "# X = df.drop('거래금액(만원)', axis=1)\n",
        "# y = df[['거래금액(만원)']]\n",
        "train = df[df.index < '2023-02-01']\n",
        "test = df[df.index >= '2023-02-01']\n",
        "\n",
        "X_train = train.drop('거래금액(만원)', axis = 1)\n",
        "X_test = test.drop('거래금액(만원)', axis = 1)\n",
        "y_train = train['거래금액(만원)']\n",
        "y_test = test['거래금액(만원)']\n",
        "# X_train, X_test, y_train, y_test = train_test_split(X, y,\n",
        "#                                                     test_size=0.2, random_state=100)\n",
        "\n",
        "# print(X_train.shape, X_test.shape, y_train.shape, y_test.shape)"
      ],
      "metadata": {
        "id": "IxB7W9APFA_M"
      },
      "execution_count": 21,
      "outputs": []
    },
    {
      "cell_type": "code",
      "source": [
        "y_train"
      ],
      "metadata": {
        "colab": {
          "base_uri": "https://localhost:8080/",
          "height": 455
        },
        "id": "J0m1ltNd6YPa",
        "outputId": "984f77d1-49c2-4d99-bcf2-ebe74672022e"
      },
      "execution_count": 20,
      "outputs": [
        {
          "output_type": "execute_result",
          "data": {
            "text/plain": [
              "             전용면적(㎡)    건축년도  거래유형          평당가   금리\n",
              "날짜                                                  \n",
              "2023-02-07   84.9450  1997.0     0   990.641003  3.5\n",
              "2023-02-23   84.9450  1997.0     1   621.578669  3.5\n",
              "2023-02-23   84.9450  1997.0     1   893.519336  3.5\n",
              "2023-02-11   84.9900  2005.0     0  1126.014825  3.5\n",
              "2023-02-18  164.0098  2009.0     0  1197.184558  3.5\n",
              "...              ...     ...   ...          ...  ...\n",
              "2023-02-16   84.9289  2007.0     0   893.688721  3.5\n",
              "2023-02-21   84.9289  2007.0     0   893.688721  3.5\n",
              "2023-02-02   84.6800  2002.0     0   810.581011  3.5\n",
              "2023-02-02   84.9500  2019.0     0  1553.855209  3.5\n",
              "2023-02-16   99.8000  2019.0     0  1620.240481  3.5\n",
              "\n",
              "[32005 rows x 5 columns]"
            ],
            "text/html": [
              "\n",
              "  <div id=\"df-8312eb18-91f9-47d1-8d0e-e10120c5257c\">\n",
              "    <div class=\"colab-df-container\">\n",
              "      <div>\n",
              "<style scoped>\n",
              "    .dataframe tbody tr th:only-of-type {\n",
              "        vertical-align: middle;\n",
              "    }\n",
              "\n",
              "    .dataframe tbody tr th {\n",
              "        vertical-align: top;\n",
              "    }\n",
              "\n",
              "    .dataframe thead th {\n",
              "        text-align: right;\n",
              "    }\n",
              "</style>\n",
              "<table border=\"1\" class=\"dataframe\">\n",
              "  <thead>\n",
              "    <tr style=\"text-align: right;\">\n",
              "      <th></th>\n",
              "      <th>전용면적(㎡)</th>\n",
              "      <th>건축년도</th>\n",
              "      <th>거래유형</th>\n",
              "      <th>평당가</th>\n",
              "      <th>금리</th>\n",
              "    </tr>\n",
              "    <tr>\n",
              "      <th>날짜</th>\n",
              "      <th></th>\n",
              "      <th></th>\n",
              "      <th></th>\n",
              "      <th></th>\n",
              "      <th></th>\n",
              "    </tr>\n",
              "  </thead>\n",
              "  <tbody>\n",
              "    <tr>\n",
              "      <th>2023-02-07</th>\n",
              "      <td>84.9450</td>\n",
              "      <td>1997.0</td>\n",
              "      <td>0</td>\n",
              "      <td>990.641003</td>\n",
              "      <td>3.5</td>\n",
              "    </tr>\n",
              "    <tr>\n",
              "      <th>2023-02-23</th>\n",
              "      <td>84.9450</td>\n",
              "      <td>1997.0</td>\n",
              "      <td>1</td>\n",
              "      <td>621.578669</td>\n",
              "      <td>3.5</td>\n",
              "    </tr>\n",
              "    <tr>\n",
              "      <th>2023-02-23</th>\n",
              "      <td>84.9450</td>\n",
              "      <td>1997.0</td>\n",
              "      <td>1</td>\n",
              "      <td>893.519336</td>\n",
              "      <td>3.5</td>\n",
              "    </tr>\n",
              "    <tr>\n",
              "      <th>2023-02-11</th>\n",
              "      <td>84.9900</td>\n",
              "      <td>2005.0</td>\n",
              "      <td>0</td>\n",
              "      <td>1126.014825</td>\n",
              "      <td>3.5</td>\n",
              "    </tr>\n",
              "    <tr>\n",
              "      <th>2023-02-18</th>\n",
              "      <td>164.0098</td>\n",
              "      <td>2009.0</td>\n",
              "      <td>0</td>\n",
              "      <td>1197.184558</td>\n",
              "      <td>3.5</td>\n",
              "    </tr>\n",
              "    <tr>\n",
              "      <th>...</th>\n",
              "      <td>...</td>\n",
              "      <td>...</td>\n",
              "      <td>...</td>\n",
              "      <td>...</td>\n",
              "      <td>...</td>\n",
              "    </tr>\n",
              "    <tr>\n",
              "      <th>2023-02-16</th>\n",
              "      <td>84.9289</td>\n",
              "      <td>2007.0</td>\n",
              "      <td>0</td>\n",
              "      <td>893.688721</td>\n",
              "      <td>3.5</td>\n",
              "    </tr>\n",
              "    <tr>\n",
              "      <th>2023-02-21</th>\n",
              "      <td>84.9289</td>\n",
              "      <td>2007.0</td>\n",
              "      <td>0</td>\n",
              "      <td>893.688721</td>\n",
              "      <td>3.5</td>\n",
              "    </tr>\n",
              "    <tr>\n",
              "      <th>2023-02-02</th>\n",
              "      <td>84.6800</td>\n",
              "      <td>2002.0</td>\n",
              "      <td>0</td>\n",
              "      <td>810.581011</td>\n",
              "      <td>3.5</td>\n",
              "    </tr>\n",
              "    <tr>\n",
              "      <th>2023-02-02</th>\n",
              "      <td>84.9500</td>\n",
              "      <td>2019.0</td>\n",
              "      <td>0</td>\n",
              "      <td>1553.855209</td>\n",
              "      <td>3.5</td>\n",
              "    </tr>\n",
              "    <tr>\n",
              "      <th>2023-02-16</th>\n",
              "      <td>99.8000</td>\n",
              "      <td>2019.0</td>\n",
              "      <td>0</td>\n",
              "      <td>1620.240481</td>\n",
              "      <td>3.5</td>\n",
              "    </tr>\n",
              "  </tbody>\n",
              "</table>\n",
              "<p>32005 rows × 5 columns</p>\n",
              "</div>\n",
              "      <button class=\"colab-df-convert\" onclick=\"convertToInteractive('df-8312eb18-91f9-47d1-8d0e-e10120c5257c')\"\n",
              "              title=\"Convert this dataframe to an interactive table.\"\n",
              "              style=\"display:none;\">\n",
              "        \n",
              "  <svg xmlns=\"http://www.w3.org/2000/svg\" height=\"24px\"viewBox=\"0 0 24 24\"\n",
              "       width=\"24px\">\n",
              "    <path d=\"M0 0h24v24H0V0z\" fill=\"none\"/>\n",
              "    <path d=\"M18.56 5.44l.94 2.06.94-2.06 2.06-.94-2.06-.94-.94-2.06-.94 2.06-2.06.94zm-11 1L8.5 8.5l.94-2.06 2.06-.94-2.06-.94L8.5 2.5l-.94 2.06-2.06.94zm10 10l.94 2.06.94-2.06 2.06-.94-2.06-.94-.94-2.06-.94 2.06-2.06.94z\"/><path d=\"M17.41 7.96l-1.37-1.37c-.4-.4-.92-.59-1.43-.59-.52 0-1.04.2-1.43.59L10.3 9.45l-7.72 7.72c-.78.78-.78 2.05 0 2.83L4 21.41c.39.39.9.59 1.41.59.51 0 1.02-.2 1.41-.59l7.78-7.78 2.81-2.81c.8-.78.8-2.07 0-2.86zM5.41 20L4 18.59l7.72-7.72 1.47 1.35L5.41 20z\"/>\n",
              "  </svg>\n",
              "      </button>\n",
              "      \n",
              "  <style>\n",
              "    .colab-df-container {\n",
              "      display:flex;\n",
              "      flex-wrap:wrap;\n",
              "      gap: 12px;\n",
              "    }\n",
              "\n",
              "    .colab-df-convert {\n",
              "      background-color: #E8F0FE;\n",
              "      border: none;\n",
              "      border-radius: 50%;\n",
              "      cursor: pointer;\n",
              "      display: none;\n",
              "      fill: #1967D2;\n",
              "      height: 32px;\n",
              "      padding: 0 0 0 0;\n",
              "      width: 32px;\n",
              "    }\n",
              "\n",
              "    .colab-df-convert:hover {\n",
              "      background-color: #E2EBFA;\n",
              "      box-shadow: 0px 1px 2px rgba(60, 64, 67, 0.3), 0px 1px 3px 1px rgba(60, 64, 67, 0.15);\n",
              "      fill: #174EA6;\n",
              "    }\n",
              "\n",
              "    [theme=dark] .colab-df-convert {\n",
              "      background-color: #3B4455;\n",
              "      fill: #D2E3FC;\n",
              "    }\n",
              "\n",
              "    [theme=dark] .colab-df-convert:hover {\n",
              "      background-color: #434B5C;\n",
              "      box-shadow: 0px 1px 3px 1px rgba(0, 0, 0, 0.15);\n",
              "      filter: drop-shadow(0px 1px 2px rgba(0, 0, 0, 0.3));\n",
              "      fill: #FFFFFF;\n",
              "    }\n",
              "  </style>\n",
              "\n",
              "      <script>\n",
              "        const buttonEl =\n",
              "          document.querySelector('#df-8312eb18-91f9-47d1-8d0e-e10120c5257c button.colab-df-convert');\n",
              "        buttonEl.style.display =\n",
              "          google.colab.kernel.accessAllowed ? 'block' : 'none';\n",
              "\n",
              "        async function convertToInteractive(key) {\n",
              "          const element = document.querySelector('#df-8312eb18-91f9-47d1-8d0e-e10120c5257c');\n",
              "          const dataTable =\n",
              "            await google.colab.kernel.invokeFunction('convertToInteractive',\n",
              "                                                     [key], {});\n",
              "          if (!dataTable) return;\n",
              "\n",
              "          const docLinkHtml = 'Like what you see? Visit the ' +\n",
              "            '<a target=\"_blank\" href=https://colab.research.google.com/notebooks/data_table.ipynb>data table notebook</a>'\n",
              "            + ' to learn more about interactive tables.';\n",
              "          element.innerHTML = '';\n",
              "          dataTable['output_type'] = 'display_data';\n",
              "          await google.colab.output.renderOutput(dataTable, element);\n",
              "          const docLink = document.createElement('div');\n",
              "          docLink.innerHTML = docLinkHtml;\n",
              "          element.appendChild(docLink);\n",
              "        }\n",
              "      </script>\n",
              "    </div>\n",
              "  </div>\n",
              "  "
            ]
          },
          "metadata": {},
          "execution_count": 20
        }
      ]
    },
    {
      "cell_type": "code",
      "source": [
        "train.info()"
      ],
      "metadata": {
        "colab": {
          "base_uri": "https://localhost:8080/"
        },
        "id": "dUvC8QufhTQq",
        "outputId": "5df26fa5-29c1-4507-bd27-5c9c0a167fb5"
      },
      "execution_count": 124,
      "outputs": [
        {
          "output_type": "stream",
          "name": "stdout",
          "text": [
            "<class 'pandas.core.frame.DataFrame'>\n",
            "DatetimeIndex: 19998 entries, 2023-01-04 to 2023-01-28\n",
            "Data columns (total 6 columns):\n",
            " #   Column    Non-Null Count  Dtype  \n",
            "---  ------    --------------  -----  \n",
            " 0   전용면적(㎡)   19998 non-null  float64\n",
            " 1   거래금액(만원)  19998 non-null  int64  \n",
            " 2   건축년도      19998 non-null  float64\n",
            " 3   거래유형      19998 non-null  int64  \n",
            " 4   평당가       19998 non-null  float64\n",
            " 5   금리        19998 non-null  float64\n",
            "dtypes: float64(4), int64(2)\n",
            "memory usage: 1.1 MB\n"
          ]
        }
      ]
    },
    {
      "cell_type": "code",
      "source": [
        "df.info()"
      ],
      "metadata": {
        "colab": {
          "base_uri": "https://localhost:8080/"
        },
        "id": "WweCjpdIhV63",
        "outputId": "065f968a-9c1d-4598-cd30-ad5a8d91961b"
      },
      "execution_count": 125,
      "outputs": [
        {
          "output_type": "stream",
          "name": "stdout",
          "text": [
            "<class 'pandas.core.frame.DataFrame'>\n",
            "DatetimeIndex: 52003 entries, 2023-01-04 to 2023-02-16\n",
            "Data columns (total 6 columns):\n",
            " #   Column    Non-Null Count  Dtype  \n",
            "---  ------    --------------  -----  \n",
            " 0   전용면적(㎡)   52003 non-null  float64\n",
            " 1   거래금액(만원)  52003 non-null  int64  \n",
            " 2   건축년도      52003 non-null  float64\n",
            " 3   거래유형      52003 non-null  int64  \n",
            " 4   평당가       52003 non-null  float64\n",
            " 5   금리        52003 non-null  float64\n",
            "dtypes: float64(4), int64(2)\n",
            "memory usage: 2.8 MB\n"
          ]
        }
      ]
    },
    {
      "cell_type": "markdown",
      "source": [
        "## LightGBM\n"
      ],
      "metadata": {
        "id": "8Um5xQhl6eiv"
      }
    },
    {
      "cell_type": "code",
      "source": [
        "import lightgbm as lgb\n",
        "LGBM = lgb.LGBMRegressor(num_leaves=16, max_depth=4, learning_rate=0.1)\n",
        "LGBM.fit(X_train,y_train)\n",
        "y_pred = LGBM.predict(X_test)"
      ],
      "metadata": {
        "id": "VrRLcsGNhHYA"
      },
      "execution_count": 22,
      "outputs": []
    },
    {
      "cell_type": "code",
      "source": [
        "LGBM.feature_importances_"
      ],
      "metadata": {
        "colab": {
          "base_uri": "https://localhost:8080/"
        },
        "id": "iVc_JVQ-8p3P",
        "outputId": "55d26c99-87e7-466c-f9b7-1cfee7ff4f0d"
      },
      "execution_count": 23,
      "outputs": [
        {
          "output_type": "execute_result",
          "data": {
            "text/plain": [
              "array([474, 149,   0, 362,   0], dtype=int32)"
            ]
          },
          "metadata": {},
          "execution_count": 23
        }
      ]
    },
    {
      "cell_type": "code",
      "source": [
        "LGBM.feature_importances_\n",
        "feature_imp = pd.DataFrame({'features': X_train.columns, 'values': LGBM.feature_importances_})\n",
        "plt.figure(figsize=(10, 5))\n",
        "sns.barplot(x='values', y='features',\n",
        "            data=feature_imp.sort_values(by='values', ascending=False).head(10))\n",
        "plt.show()"
      ],
      "metadata": {
        "colab": {
          "base_uri": "https://localhost:8080/",
          "height": 334
        },
        "id": "7sLwovuT8sCQ",
        "outputId": "8c1b9a18-1055-4168-e192-d17d819bc6ba"
      },
      "execution_count": 32,
      "outputs": [
        {
          "output_type": "display_data",
          "data": {
            "text/plain": [
              "<Figure size 720x360 with 1 Axes>"
            ],
            "image/png": "[encoded data removed]"
          },
          "metadata": {
            "needs_background": "light"
          }
        }
      ]
    },
    {
      "cell_type": "code",
      "source": [
        "#@title RMSE 평가\n",
        "def rmse_error(y, y_pred):\n",
        "  rmse = mean_squared_error(y, y_pred, squared = False)\n",
        "  return rmse\n",
        "\n",
        "print(rmse_error(LGBM.predict(X_train),y_train))\n",
        "print(rmse_error(LGBM.predict(X_test),y_test))"
      ],
      "metadata": {
        "colab": {
          "base_uri": "https://localhost:8080/"
        },
        "id": "etmjZQb288vY",
        "outputId": "63c1ed0b-dbc4-45c3-80bf-cee66c9c07b7"
      },
      "execution_count": 84,
      "outputs": [
        {
          "output_type": "stream",
          "name": "stdout",
          "text": [
            "2636.8469330141975\n",
            "2967.633309176917\n"
          ]
        }
      ]
    },
    {
      "cell_type": "code",
      "source": [
        "y_test"
      ],
      "metadata": {
        "colab": {
          "base_uri": "https://localhost:8080/"
        },
        "id": "Mww6536noUg3",
        "outputId": "9e84cacf-d0a7-4b39-bba8-1cb635e25785"
      },
      "execution_count": 55,
      "outputs": [
        {
          "output_type": "execute_result",
          "data": {
            "text/plain": [
              "날짜\n",
              "2023-02-07    25500\n",
              "2023-02-23    16000\n",
              "2023-02-23    23000\n",
              "2023-02-11    29000\n",
              "2023-02-18    59500\n",
              "              ...  \n",
              "2023-02-16    23000\n",
              "2023-02-21    23000\n",
              "2023-02-02    20800\n",
              "2023-02-02    40000\n",
              "2023-02-16    49000\n",
              "Name: 거래금액(만원), Length: 32005, dtype: int64"
            ]
          },
          "metadata": {},
          "execution_count": 55
        }
      ]
    },
    {
      "cell_type": "code",
      "source": [
        "y_pred"
      ],
      "metadata": {
        "colab": {
          "base_uri": "https://localhost:8080/"
        },
        "id": "CobBxDYcoV1g",
        "outputId": "1f5fa8dc-82a6-4036-bb4d-549efc8216e6"
      },
      "execution_count": 50,
      "outputs": [
        {
          "output_type": "execute_result",
          "data": {
            "text/plain": [
              "array([25155.63927512, 16457.47947698, 23329.84603107, ...,\n",
              "       21220.71275132, 40251.91486638, 49366.02915026])"
            ]
          },
          "metadata": {},
          "execution_count": 50
        }
      ]
    },
    {
      "cell_type": "code",
      "source": [
        "# 모델 평가 및 예측\n",
        "y_pred = LGBM.predict(X_test)\n",
        "mse = mean_squared_error(y_test, y_pred)\n",
        "print(\"MSE: %.2f\" % mse)\n",
        "\n",
        "# # z-점수 계산\n",
        "# X_mean = X.mean(axis=0)\n",
        "# X_std = X.std(axis=0)\n",
        "# X_z = (X - X_mean) / X_std\n",
        "# print(X_z)"
      ],
      "metadata": {
        "colab": {
          "base_uri": "https://localhost:8080/"
        },
        "id": "tLah-g6HAtmy",
        "outputId": "20878b05-b761-4284-dd5d-a0772806b0f7"
      },
      "execution_count": 83,
      "outputs": [
        {
          "output_type": "stream",
          "name": "stdout",
          "text": [
            "MSE: 8806847.46\n"
          ]
        }
      ]
    },
    {
      "cell_type": "code",
      "source": [
        "# 새로운 데이터에 대한 예측\n",
        "new_data = pd.DataFrame({\n",
        "    '전용면적(㎡)': [84.930],\n",
        "    '건축년도': [2005.0],\n",
        "    '거래유형': [0],\n",
        "    '평당가': [971.388202],\n",
        "    '금리': [3.75]\n",
        "})\n",
        "predicted_price = LGBM.predict(new_data)  # 새로운 데이터에 대한 예측\n",
        "print(\"Predicted price: %.2f\" % predicted_price)  # 예측된 아파트 실거래가 출력\n"
      ],
      "metadata": {
        "colab": {
          "base_uri": "https://localhost:8080/"
        },
        "id": "hYWJCMdLEEOc",
        "outputId": "2238d8b5-a65c-4bbc-b9c4-d9cdb15c0a17"
      },
      "execution_count": 89,
      "outputs": [
        {
          "output_type": "stream",
          "name": "stdout",
          "text": [
            "Predicted price: 25155.64\n"
          ]
        }
      ]
    },
    {
      "cell_type": "code",
      "source": [
        "# test 데이터에 대한 예측\n",
        "new_data = pd.DataFrame({\n",
        "    '전용면적(㎡)': [164.0098\t],\n",
        "    '건축년도': [2009.0\t],\n",
        "    '거래유형': [0],\n",
        "    '평당가': [1197.184558],\n",
        "    '금리': [3.5]\n",
        "}) ## 59500, -> 58962.26\n",
        "predicted_price = LGBM.predict(new_data)  # 새로운 데이터에 대한 예측\n",
        "print(\"Predicted price: %.2f\" % predicted_price)  # 예측된 아파트 실거래가 출력"
      ],
      "metadata": {
        "colab": {
          "base_uri": "https://localhost:8080/"
        },
        "id": "v7RlnZXb7vi2",
        "outputId": "6d471111-f7b9-40a7-8c74-5160da28a843"
      },
      "execution_count": 92,
      "outputs": [
        {
          "output_type": "stream",
          "name": "stdout",
          "text": [
            "Predicted price: 58962.26\n"
          ]
        }
      ]
    },
    {
      "cell_type": "code",
      "source": [
        "X_train"
      ],
      "metadata": {
        "colab": {
          "base_uri": "https://localhost:8080/",
          "height": 455
        },
        "id": "5lJWKHUm9GuF",
        "outputId": "a5b238d1-455f-4d47-a39c-7833fb37d31c"
      },
      "execution_count": 93,
      "outputs": [
        {
          "output_type": "execute_result",
          "data": {
            "text/plain": [
              "            전용면적(㎡)    건축년도  거래유형          평당가    금리\n",
              "날짜                                                  \n",
              "2023-01-04   84.930  1997.0     0   971.388202  3.25\n",
              "2023-01-05   84.990  2005.0     0  1157.077303  3.25\n",
              "2023-01-25   84.990  2005.0     0  1106.600777  3.50\n",
              "2023-01-04   59.860  2002.0     1  1102.572670  3.25\n",
              "2023-01-11   59.840  2002.0     0  1378.676471  3.25\n",
              "...             ...     ...   ...          ...   ...\n",
              "2023-01-10   84.809  2019.0     0  1284.061833  3.25\n",
              "2023-01-10   84.809  2019.0     0  1284.061833  3.25\n",
              "2023-01-08   84.960  2019.0     0  1495.409605  3.25\n",
              "2023-01-16   84.890  2019.0     0  1438.331959  3.50\n",
              "2023-01-28   84.960  2019.0     0  1584.745763  3.50\n",
              "\n",
              "[19998 rows x 5 columns]"
            ],
            "text/html": [
              "\n",
              "  <div id=\"df-9b4fbbc2-aa86-4973-87d5-a0f23240d622\">\n",
              "    <div class=\"colab-df-container\">\n",
              "      <div>\n",
              "<style scoped>\n",
              "    .dataframe tbody tr th:only-of-type {\n",
              "        vertical-align: middle;\n",
              "    }\n",
              "\n",
              "    .dataframe tbody tr th {\n",
              "        vertical-align: top;\n",
              "    }\n",
              "\n",
              "    .dataframe thead th {\n",
              "        text-align: right;\n",
              "    }\n",
              "</style>\n",
              "<table border=\"1\" class=\"dataframe\">\n",
              "  <thead>\n",
              "    <tr style=\"text-align: right;\">\n",
              "      <th></th>\n",
              "      <th>전용면적(㎡)</th>\n",
              "      <th>건축년도</th>\n",
              "      <th>거래유형</th>\n",
              "      <th>평당가</th>\n",
              "      <th>금리</th>\n",
              "    </tr>\n",
              "    <tr>\n",
              "      <th>날짜</th>\n",
              "      <th></th>\n",
              "      <th></th>\n",
              "      <th></th>\n",
              "      <th></th>\n",
              "      <th></th>\n",
              "    </tr>\n",
              "  </thead>\n",
              "  <tbody>\n",
              "    <tr>\n",
              "      <th>2023-01-04</th>\n",
              "      <td>84.930</td>\n",
              "      <td>1997.0</td>\n",
              "      <td>0</td>\n",
              "      <td>971.388202</td>\n",
              "      <td>3.25</td>\n",
              "    </tr>\n",
              "    <tr>\n",
              "      <th>2023-01-05</th>\n",
              "      <td>84.990</td>\n",
              "      <td>2005.0</td>\n",
              "      <td>0</td>\n",
              "      <td>1157.077303</td>\n",
              "      <td>3.25</td>\n",
              "    </tr>\n",
              "    <tr>\n",
              "      <th>2023-01-25</th>\n",
              "      <td>84.990</td>\n",
              "      <td>2005.0</td>\n",
              "      <td>0</td>\n",
              "      <td>1106.600777</td>\n",
              "      <td>3.50</td>\n",
              "    </tr>\n",
              "    <tr>\n",
              "      <th>2023-01-04</th>\n",
              "      <td>59.860</td>\n",
              "      <td>2002.0</td>\n",
              "      <td>1</td>\n",
              "      <td>1102.572670</td>\n",
              "      <td>3.25</td>\n",
              "    </tr>\n",
              "    <tr>\n",
              "      <th>2023-01-11</th>\n",
              "      <td>59.840</td>\n",
              "      <td>2002.0</td>\n",
              "      <td>0</td>\n",
              "      <td>1378.676471</td>\n",
              "      <td>3.25</td>\n",
              "    </tr>\n",
              "    <tr>\n",
              "      <th>...</th>\n",
              "      <td>...</td>\n",
              "      <td>...</td>\n",
              "      <td>...</td>\n",
              "      <td>...</td>\n",
              "      <td>...</td>\n",
              "    </tr>\n",
              "    <tr>\n",
              "      <th>2023-01-10</th>\n",
              "      <td>84.809</td>\n",
              "      <td>2019.0</td>\n",
              "      <td>0</td>\n",
              "      <td>1284.061833</td>\n",
              "      <td>3.25</td>\n",
              "    </tr>\n",
              "    <tr>\n",
              "      <th>2023-01-10</th>\n",
              "      <td>84.809</td>\n",
              "      <td>2019.0</td>\n",
              "      <td>0</td>\n",
              "      <td>1284.061833</td>\n",
              "      <td>3.25</td>\n",
              "    </tr>\n",
              "    <tr>\n",
              "      <th>2023-01-08</th>\n",
              "      <td>84.960</td>\n",
              "      <td>2019.0</td>\n",
              "      <td>0</td>\n",
              "      <td>1495.409605</td>\n",
              "      <td>3.25</td>\n",
              "    </tr>\n",
              "    <tr>\n",
              "      <th>2023-01-16</th>\n",
              "      <td>84.890</td>\n",
              "      <td>2019.0</td>\n",
              "      <td>0</td>\n",
              "      <td>1438.331959</td>\n",
              "      <td>3.50</td>\n",
              "    </tr>\n",
              "    <tr>\n",
              "      <th>2023-01-28</th>\n",
              "      <td>84.960</td>\n",
              "      <td>2019.0</td>\n",
              "      <td>0</td>\n",
              "      <td>1584.745763</td>\n",
              "      <td>3.50</td>\n",
              "    </tr>\n",
              "  </tbody>\n",
              "</table>\n",
              "<p>19998 rows × 5 columns</p>\n",
              "</div>\n",
              "      <button class=\"colab-df-convert\" onclick=\"convertToInteractive('df-9b4fbbc2-aa86-4973-87d5-a0f23240d622')\"\n",
              "              title=\"Convert this dataframe to an interactive table.\"\n",
              "              style=\"display:none;\">\n",
              "        \n",
              "  <svg xmlns=\"http://www.w3.org/2000/svg\" height=\"24px\"viewBox=\"0 0 24 24\"\n",
              "       width=\"24px\">\n",
              "    <path d=\"M0 0h24v24H0V0z\" fill=\"none\"/>\n",
              "    <path d=\"M18.56 5.44l.94 2.06.94-2.06 2.06-.94-2.06-.94-.94-2.06-.94 2.06-2.06.94zm-11 1L8.5 8.5l.94-2.06 2.06-.94-2.06-.94L8.5 2.5l-.94 2.06-2.06.94zm10 10l.94 2.06.94-2.06 2.06-.94-2.06-.94-.94-2.06-.94 2.06-2.06.94z\"/><path d=\"M17.41 7.96l-1.37-1.37c-.4-.4-.92-.59-1.43-.59-.52 0-1.04.2-1.43.59L10.3 9.45l-7.72 7.72c-.78.78-.78 2.05 0 2.83L4 21.41c.39.39.9.59 1.41.59.51 0 1.02-.2 1.41-.59l7.78-7.78 2.81-2.81c.8-.78.8-2.07 0-2.86zM5.41 20L4 18.59l7.72-7.72 1.47 1.35L5.41 20z\"/>\n",
              "  </svg>\n",
              "      </button>\n",
              "      \n",
              "  <style>\n",
              "    .colab-df-container {\n",
              "      display:flex;\n",
              "      flex-wrap:wrap;\n",
              "      gap: 12px;\n",
              "    }\n",
              "\n",
              "    .colab-df-convert {\n",
              "      background-color: #E8F0FE;\n",
              "      border: none;\n",
              "      border-radius: 50%;\n",
              "      cursor: pointer;\n",
              "      display: none;\n",
              "      fill: #1967D2;\n",
              "      height: 32px;\n",
              "      padding: 0 0 0 0;\n",
              "      width: 32px;\n",
              "    }\n",
              "\n",
              "    .colab-df-convert:hover {\n",
              "      background-color: #E2EBFA;\n",
              "      box-shadow: 0px 1px 2px rgba(60, 64, 67, 0.3), 0px 1px 3px 1px rgba(60, 64, 67, 0.15);\n",
              "      fill: #174EA6;\n",
              "    }\n",
              "\n",
              "    [theme=dark] .colab-df-convert {\n",
              "      background-color: #3B4455;\n",
              "      fill: #D2E3FC;\n",
              "    }\n",
              "\n",
              "    [theme=dark] .colab-df-convert:hover {\n",
              "      background-color: #434B5C;\n",
              "      box-shadow: 0px 1px 3px 1px rgba(0, 0, 0, 0.15);\n",
              "      filter: drop-shadow(0px 1px 2px rgba(0, 0, 0, 0.3));\n",
              "      fill: #FFFFFF;\n",
              "    }\n",
              "  </style>\n",
              "\n",
              "      <script>\n",
              "        const buttonEl =\n",
              "          document.querySelector('#df-9b4fbbc2-aa86-4973-87d5-a0f23240d622 button.colab-df-convert');\n",
              "        buttonEl.style.display =\n",
              "          google.colab.kernel.accessAllowed ? 'block' : 'none';\n",
              "\n",
              "        async function convertToInteractive(key) {\n",
              "          const element = document.querySelector('#df-9b4fbbc2-aa86-4973-87d5-a0f23240d622');\n",
              "          const dataTable =\n",
              "            await google.colab.kernel.invokeFunction('convertToInteractive',\n",
              "                                                     [key], {});\n",
              "          if (!dataTable) return;\n",
              "\n",
              "          const docLinkHtml = 'Like what you see? Visit the ' +\n",
              "            '<a target=\"_blank\" href=https://colab.research.google.com/notebooks/data_table.ipynb>data table notebook</a>'\n",
              "            + ' to learn more about interactive tables.';\n",
              "          element.innerHTML = '';\n",
              "          dataTable['output_type'] = 'display_data';\n",
              "          await google.colab.output.renderOutput(dataTable, element);\n",
              "          const docLink = document.createElement('div');\n",
              "          docLink.innerHTML = docLinkHtml;\n",
              "          element.appendChild(docLink);\n",
              "        }\n",
              "      </script>\n",
              "    </div>\n",
              "  </div>\n",
              "  "
            ]
          },
          "metadata": {},
          "execution_count": 93
        }
      ]
    },
    {
      "cell_type": "code",
      "source": [
        "y_train"
      ],
      "metadata": {
        "colab": {
          "base_uri": "https://localhost:8080/"
        },
        "id": "k_Knn_9Y9G39",
        "outputId": "8e6822a3-28f2-43e0-c179-4232d376f681"
      },
      "execution_count": 94,
      "outputs": [
        {
          "output_type": "execute_result",
          "data": {
            "text/plain": [
              "날짜\n",
              "2023-01-04    25000\n",
              "2023-01-05    29800\n",
              "2023-01-25    28500\n",
              "2023-01-04    20000\n",
              "2023-01-11    25000\n",
              "              ...  \n",
              "2023-01-10    33000\n",
              "2023-01-10    33000\n",
              "2023-01-08    38500\n",
              "2023-01-16    37000\n",
              "2023-01-28    40800\n",
              "Name: 거래금액(만원), Length: 19998, dtype: int64"
            ]
          },
          "metadata": {},
          "execution_count": 94
        }
      ]
    },
    {
      "cell_type": "code",
      "source": [
        "# train 데이터에 대한 예측\n",
        "new_data = pd.DataFrame({\n",
        "    '전용면적(㎡)': [84.809],\n",
        "    '건축년도': [2019.0\t],\n",
        "    '거래유형': [0],\n",
        "    '평당가': [1284.061833],\n",
        "    '금리': [3.25]\n",
        "}) ## 33000, -> 32930.44\n",
        "predicted_price = LGBM.predict(new_data)  # 새로운 데이터에 대한 예측\n",
        "print(\"Predicted price: %.2f\" % predicted_price)  # 예측된 아파트 실거래가 출력"
      ],
      "metadata": {
        "colab": {
          "base_uri": "https://localhost:8080/"
        },
        "id": "Rcb6CYLc9OJy",
        "outputId": "9ff4f22a-fcb1-4db2-fe7e-112babbd22b3"
      },
      "execution_count": 97,
      "outputs": [
        {
          "output_type": "stream",
          "name": "stdout",
          "text": [
            "Predicted price: 32930.44\n"
          ]
        }
      ]
    },
    {
      "cell_type": "code",
      "source": [
        "y_test"
      ],
      "metadata": {
        "colab": {
          "base_uri": "https://localhost:8080/"
        },
        "id": "mGOw1S6S8llT",
        "outputId": "a7d3a27f-d8f7-48d9-bc0f-694bce2cc928"
      },
      "execution_count": 90,
      "outputs": [
        {
          "output_type": "execute_result",
          "data": {
            "text/plain": [
              "날짜\n",
              "2023-02-07    25500\n",
              "2023-02-23    16000\n",
              "2023-02-23    23000\n",
              "2023-02-11    29000\n",
              "2023-02-18    59500\n",
              "              ...  \n",
              "2023-02-16    23000\n",
              "2023-02-21    23000\n",
              "2023-02-02    20800\n",
              "2023-02-02    40000\n",
              "2023-02-16    49000\n",
              "Name: 거래금액(만원), Length: 32005, dtype: int64"
            ]
          },
          "metadata": {},
          "execution_count": 90
        }
      ]
    },
    {
      "cell_type": "code",
      "source": [
        "X_test"
      ],
      "metadata": {
        "colab": {
          "base_uri": "https://localhost:8080/",
          "height": 455
        },
        "id": "bqVX7Djl8lsV",
        "outputId": "2e8bc832-b882-4d0d-c795-d2550238aa7f"
      },
      "execution_count": 91,
      "outputs": [
        {
          "output_type": "execute_result",
          "data": {
            "text/plain": [
              "             전용면적(㎡)    건축년도  거래유형          평당가   금리\n",
              "날짜                                                  \n",
              "2023-02-07   84.9450  1997.0     0   990.641003  3.5\n",
              "2023-02-23   84.9450  1997.0     1   621.578669  3.5\n",
              "2023-02-23   84.9450  1997.0     1   893.519336  3.5\n",
              "2023-02-11   84.9900  2005.0     0  1126.014825  3.5\n",
              "2023-02-18  164.0098  2009.0     0  1197.184558  3.5\n",
              "...              ...     ...   ...          ...  ...\n",
              "2023-02-16   84.9289  2007.0     0   893.688721  3.5\n",
              "2023-02-21   84.9289  2007.0     0   893.688721  3.5\n",
              "2023-02-02   84.6800  2002.0     0   810.581011  3.5\n",
              "2023-02-02   84.9500  2019.0     0  1553.855209  3.5\n",
              "2023-02-16   99.8000  2019.0     0  1620.240481  3.5\n",
              "\n",
              "[32005 rows x 5 columns]"
            ],
            "text/html": [
              "\n",
              "  <div id=\"df-5a28aa0a-f746-478d-80b6-b5047992cd00\">\n",
              "    <div class=\"colab-df-container\">\n",
              "      <div>\n",
              "<style scoped>\n",
              "    .dataframe tbody tr th:only-of-type {\n",
              "        vertical-align: middle;\n",
              "    }\n",
              "\n",
              "    .dataframe tbody tr th {\n",
              "        vertical-align: top;\n",
              "    }\n",
              "\n",
              "    .dataframe thead th {\n",
              "        text-align: right;\n",
              "    }\n",
              "</style>\n",
              "<table border=\"1\" class=\"dataframe\">\n",
              "  <thead>\n",
              "    <tr style=\"text-align: right;\">\n",
              "      <th></th>\n",
              "      <th>전용면적(㎡)</th>\n",
              "      <th>건축년도</th>\n",
              "      <th>거래유형</th>\n",
              "      <th>평당가</th>\n",
              "      <th>금리</th>\n",
              "    </tr>\n",
              "    <tr>\n",
              "      <th>날짜</th>\n",
              "      <th></th>\n",
              "      <th></th>\n",
              "      <th></th>\n",
              "      <th></th>\n",
              "      <th></th>\n",
              "    </tr>\n",
              "  </thead>\n",
              "  <tbody>\n",
              "    <tr>\n",
              "      <th>2023-02-07</th>\n",
              "      <td>84.9450</td>\n",
              "      <td>1997.0</td>\n",
              "      <td>0</td>\n",
              "      <td>990.641003</td>\n",
              "      <td>3.5</td>\n",
              "    </tr>\n",
              "    <tr>\n",
              "      <th>2023-02-23</th>\n",
              "      <td>84.9450</td>\n",
              "      <td>1997.0</td>\n",
              "      <td>1</td>\n",
              "      <td>621.578669</td>\n",
              "      <td>3.5</td>\n",
              "    </tr>\n",
              "    <tr>\n",
              "      <th>2023-02-23</th>\n",
              "      <td>84.9450</td>\n",
              "      <td>1997.0</td>\n",
              "      <td>1</td>\n",
              "      <td>893.519336</td>\n",
              "      <td>3.5</td>\n",
              "    </tr>\n",
              "    <tr>\n",
              "      <th>2023-02-11</th>\n",
              "      <td>84.9900</td>\n",
              "      <td>2005.0</td>\n",
              "      <td>0</td>\n",
              "      <td>1126.014825</td>\n",
              "      <td>3.5</td>\n",
              "    </tr>\n",
              "    <tr>\n",
              "      <th>2023-02-18</th>\n",
              "      <td>164.0098</td>\n",
              "      <td>2009.0</td>\n",
              "      <td>0</td>\n",
              "      <td>1197.184558</td>\n",
              "      <td>3.5</td>\n",
              "    </tr>\n",
              "    <tr>\n",
              "      <th>...</th>\n",
              "      <td>...</td>\n",
              "      <td>...</td>\n",
              "      <td>...</td>\n",
              "      <td>...</td>\n",
              "      <td>...</td>\n",
              "    </tr>\n",
              "    <tr>\n",
              "      <th>2023-02-16</th>\n",
              "      <td>84.9289</td>\n",
              "      <td>2007.0</td>\n",
              "      <td>0</td>\n",
              "      <td>893.688721</td>\n",
              "      <td>3.5</td>\n",
              "    </tr>\n",
              "    <tr>\n",
              "      <th>2023-02-21</th>\n",
              "      <td>84.9289</td>\n",
              "      <td>2007.0</td>\n",
              "      <td>0</td>\n",
              "      <td>893.688721</td>\n",
              "      <td>3.5</td>\n",
              "    </tr>\n",
              "    <tr>\n",
              "      <th>2023-02-02</th>\n",
              "      <td>84.6800</td>\n",
              "      <td>2002.0</td>\n",
              "      <td>0</td>\n",
              "      <td>810.581011</td>\n",
              "      <td>3.5</td>\n",
              "    </tr>\n",
              "    <tr>\n",
              "      <th>2023-02-02</th>\n",
              "      <td>84.9500</td>\n",
              "      <td>2019.0</td>\n",
              "      <td>0</td>\n",
              "      <td>1553.855209</td>\n",
              "      <td>3.5</td>\n",
              "    </tr>\n",
              "    <tr>\n",
              "      <th>2023-02-16</th>\n",
              "      <td>99.8000</td>\n",
              "      <td>2019.0</td>\n",
              "      <td>0</td>\n",
              "      <td>1620.240481</td>\n",
              "      <td>3.5</td>\n",
              "    </tr>\n",
              "  </tbody>\n",
              "</table>\n",
              "<p>32005 rows × 5 columns</p>\n",
              "</div>\n",
              "      <button class=\"colab-df-convert\" onclick=\"convertToInteractive('df-5a28aa0a-f746-478d-80b6-b5047992cd00')\"\n",
              "              title=\"Convert this dataframe to an interactive table.\"\n",
              "              style=\"display:none;\">\n",
              "        \n",
              "  <svg xmlns=\"http://www.w3.org/2000/svg\" height=\"24px\"viewBox=\"0 0 24 24\"\n",
              "       width=\"24px\">\n",
              "    <path d=\"M0 0h24v24H0V0z\" fill=\"none\"/>\n",
              "    <path d=\"M18.56 5.44l.94 2.06.94-2.06 2.06-.94-2.06-.94-.94-2.06-.94 2.06-2.06.94zm-11 1L8.5 8.5l.94-2.06 2.06-.94-2.06-.94L8.5 2.5l-.94 2.06-2.06.94zm10 10l.94 2.06.94-2.06 2.06-.94-2.06-.94-.94-2.06-.94 2.06-2.06.94z\"/><path d=\"M17.41 7.96l-1.37-1.37c-.4-.4-.92-.59-1.43-.59-.52 0-1.04.2-1.43.59L10.3 9.45l-7.72 7.72c-.78.78-.78 2.05 0 2.83L4 21.41c.39.39.9.59 1.41.59.51 0 1.02-.2 1.41-.59l7.78-7.78 2.81-2.81c.8-.78.8-2.07 0-2.86zM5.41 20L4 18.59l7.72-7.72 1.47 1.35L5.41 20z\"/>\n",
              "  </svg>\n",
              "      </button>\n",
              "      \n",
              "  <style>\n",
              "    .colab-df-container {\n",
              "      display:flex;\n",
              "      flex-wrap:wrap;\n",
              "      gap: 12px;\n",
              "    }\n",
              "\n",
              "    .colab-df-convert {\n",
              "      background-color: #E8F0FE;\n",
              "      border: none;\n",
              "      border-radius: 50%;\n",
              "      cursor: pointer;\n",
              "      display: none;\n",
              "      fill: #1967D2;\n",
              "      height: 32px;\n",
              "      padding: 0 0 0 0;\n",
              "      width: 32px;\n",
              "    }\n",
              "\n",
              "    .colab-df-convert:hover {\n",
              "      background-color: #E2EBFA;\n",
              "      box-shadow: 0px 1px 2px rgba(60, 64, 67, 0.3), 0px 1px 3px 1px rgba(60, 64, 67, 0.15);\n",
              "      fill: #174EA6;\n",
              "    }\n",
              "\n",
              "    [theme=dark] .colab-df-convert {\n",
              "      background-color: #3B4455;\n",
              "      fill: #D2E3FC;\n",
              "    }\n",
              "\n",
              "    [theme=dark] .colab-df-convert:hover {\n",
              "      background-color: #434B5C;\n",
              "      box-shadow: 0px 1px 3px 1px rgba(0, 0, 0, 0.15);\n",
              "      filter: drop-shadow(0px 1px 2px rgba(0, 0, 0, 0.3));\n",
              "      fill: #FFFFFF;\n",
              "    }\n",
              "  </style>\n",
              "\n",
              "      <script>\n",
              "        const buttonEl =\n",
              "          document.querySelector('#df-5a28aa0a-f746-478d-80b6-b5047992cd00 button.colab-df-convert');\n",
              "        buttonEl.style.display =\n",
              "          google.colab.kernel.accessAllowed ? 'block' : 'none';\n",
              "\n",
              "        async function convertToInteractive(key) {\n",
              "          const element = document.querySelector('#df-5a28aa0a-f746-478d-80b6-b5047992cd00');\n",
              "          const dataTable =\n",
              "            await google.colab.kernel.invokeFunction('convertToInteractive',\n",
              "                                                     [key], {});\n",
              "          if (!dataTable) return;\n",
              "\n",
              "          const docLinkHtml = 'Like what you see? Visit the ' +\n",
              "            '<a target=\"_blank\" href=https://colab.research.google.com/notebooks/data_table.ipynb>data table notebook</a>'\n",
              "            + ' to learn more about interactive tables.';\n",
              "          element.innerHTML = '';\n",
              "          dataTable['output_type'] = 'display_data';\n",
              "          await google.colab.output.renderOutput(dataTable, element);\n",
              "          const docLink = document.createElement('div');\n",
              "          docLink.innerHTML = docLinkHtml;\n",
              "          element.appendChild(docLink);\n",
              "        }\n",
              "      </script>\n",
              "    </div>\n",
              "  </div>\n",
              "  "
            ]
          },
          "metadata": {},
          "execution_count": 91
        }
      ]
    },
    {
      "cell_type": "code",
      "source": [
        "from sklearn.metrics import accuracy_score\n",
        "yy = pd.DataFrame(y_test.values.reshape(1,-1))\n",
        "yy\n",
        "LGBM.score(yy, y_pred)"
      ],
      "metadata": {
        "colab": {
          "base_uri": "https://localhost:8080/",
          "height": 378
        },
        "id": "sWF6t9M9ke7P",
        "outputId": "bec45278-e170-475e-a1bb-928c98f582fc"
      },
      "execution_count": 82,
      "outputs": [
        {
          "output_type": "error",
          "ename": "ValueError",
          "evalue": "ignored",
          "traceback": [
            "\u001b[0;31m---------------------------------------------------------------------------\u001b[0m",
            "\u001b[0;31mValueError\u001b[0m                                Traceback (most recent call last)",
            "\u001b[0;32m<ipython-input-82-85aad17d235b>\u001b[0m in \u001b[0;36m<module>\u001b[0;34m\u001b[0m\n\u001b[1;32m      2\u001b[0m \u001b[0myy\u001b[0m \u001b[0;34m=\u001b[0m \u001b[0mpd\u001b[0m\u001b[0;34m.\u001b[0m\u001b[0mDataFrame\u001b[0m\u001b[0;34m(\u001b[0m\u001b[0my_test\u001b[0m\u001b[0;34m.\u001b[0m\u001b[0mvalues\u001b[0m\u001b[0;34m.\u001b[0m\u001b[0mreshape\u001b[0m\u001b[0;34m(\u001b[0m\u001b[0;36m1\u001b[0m\u001b[0;34m,\u001b[0m\u001b[0;34m-\u001b[0m\u001b[0;36m1\u001b[0m\u001b[0;34m)\u001b[0m\u001b[0;34m)\u001b[0m\u001b[0;34m\u001b[0m\u001b[0;34m\u001b[0m\u001b[0m\n\u001b[1;32m      3\u001b[0m \u001b[0myy\u001b[0m\u001b[0;34m\u001b[0m\u001b[0;34m\u001b[0m\u001b[0m\n\u001b[0;32m----> 4\u001b[0;31m \u001b[0mLGBM\u001b[0m\u001b[0;34m.\u001b[0m\u001b[0mscore\u001b[0m\u001b[0;34m(\u001b[0m\u001b[0myy\u001b[0m\u001b[0;34m,\u001b[0m \u001b[0my_pred\u001b[0m\u001b[0;34m)\u001b[0m\u001b[0;34m\u001b[0m\u001b[0;34m\u001b[0m\u001b[0m\n\u001b[0m",
            "\u001b[0;32m/usr/local/lib/python3.9/dist-packages/sklearn/base.py\u001b[0m in \u001b[0;36mscore\u001b[0;34m(self, X, y, sample_weight)\u001b[0m\n\u001b[1;32m    720\u001b[0m         \u001b[0;32mfrom\u001b[0m \u001b[0;34m.\u001b[0m\u001b[0mmetrics\u001b[0m \u001b[0;32mimport\u001b[0m \u001b[0mr2_score\u001b[0m\u001b[0;34m\u001b[0m\u001b[0;34m\u001b[0m\u001b[0m\n\u001b[1;32m    721\u001b[0m \u001b[0;34m\u001b[0m\u001b[0m\n\u001b[0;32m--> 722\u001b[0;31m         \u001b[0my_pred\u001b[0m \u001b[0;34m=\u001b[0m \u001b[0mself\u001b[0m\u001b[0;34m.\u001b[0m\u001b[0mpredict\u001b[0m\u001b[0;34m(\u001b[0m\u001b[0mX\u001b[0m\u001b[0;34m)\u001b[0m\u001b[0;34m\u001b[0m\u001b[0;34m\u001b[0m\u001b[0m\n\u001b[0m\u001b[1;32m    723\u001b[0m         \u001b[0;32mreturn\u001b[0m \u001b[0mr2_score\u001b[0m\u001b[0;34m(\u001b[0m\u001b[0my\u001b[0m\u001b[0;34m,\u001b[0m \u001b[0my_pred\u001b[0m\u001b[0;34m,\u001b[0m \u001b[0msample_weight\u001b[0m\u001b[0;34m=\u001b[0m\u001b[0msample_weight\u001b[0m\u001b[0;34m)\u001b[0m\u001b[0;34m\u001b[0m\u001b[0;34m\u001b[0m\u001b[0m\n\u001b[1;32m    724\u001b[0m \u001b[0;34m\u001b[0m\u001b[0m\n",
            "\u001b[0;32m/usr/local/lib/python3.9/dist-packages/lightgbm/sklearn.py\u001b[0m in \u001b[0;36mpredict\u001b[0;34m(self, X, raw_score, start_iteration, num_iteration, pred_leaf, pred_contrib, **kwargs)\u001b[0m\n\u001b[1;32m    798\u001b[0m         \u001b[0mn_features\u001b[0m \u001b[0;34m=\u001b[0m \u001b[0mX\u001b[0m\u001b[0;34m.\u001b[0m\u001b[0mshape\u001b[0m\u001b[0;34m[\u001b[0m\u001b[0;36m1\u001b[0m\u001b[0;34m]\u001b[0m\u001b[0;34m\u001b[0m\u001b[0;34m\u001b[0m\u001b[0m\n\u001b[1;32m    799\u001b[0m         \u001b[0;32mif\u001b[0m \u001b[0mself\u001b[0m\u001b[0;34m.\u001b[0m\u001b[0m_n_features\u001b[0m \u001b[0;34m!=\u001b[0m \u001b[0mn_features\u001b[0m\u001b[0;34m:\u001b[0m\u001b[0;34m\u001b[0m\u001b[0;34m\u001b[0m\u001b[0m\n\u001b[0;32m--> 800\u001b[0;31m             raise ValueError(\"Number of features of the model must \"\n\u001b[0m\u001b[1;32m    801\u001b[0m                              \u001b[0;34mf\"match the input. Model n_features_ is {self._n_features} and \"\u001b[0m\u001b[0;34m\u001b[0m\u001b[0;34m\u001b[0m\u001b[0m\n\u001b[1;32m    802\u001b[0m                              f\"input n_features is {n_features}\")\n",
            "\u001b[0;31mValueError\u001b[0m: Number of features of the model must match the input. Model n_features_ is 5 and input n_features is 32005"
          ]
        }
      ]
    }
  ]
}